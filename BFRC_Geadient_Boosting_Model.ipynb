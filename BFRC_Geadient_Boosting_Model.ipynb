{
  "nbformat": 4,
  "nbformat_minor": 0,
  "metadata": {
    "colab": {
      "provenance": [],
      "authorship_tag": "ABX9TyMLeFDistH86C07XO5CIjKl",
      "include_colab_link": true
    },
    "kernelspec": {
      "name": "python3",
      "display_name": "Python 3"
    },
    "language_info": {
      "name": "python"
    }
  },
  "cells": [
    {
      "cell_type": "markdown",
      "metadata": {
        "id": "view-in-github",
        "colab_type": "text"
      },
      "source": [
        "<a href=\"https://colab.research.google.com/github/karahanmerves/BFRCA/blob/main/BFRC_Geadient_Boosting_Model.ipynb\" target=\"_parent\"><img src=\"https://colab.research.google.com/assets/colab-badge.svg\" alt=\"Open In Colab\"/></a>"
      ]
    },
    {
      "cell_type": "markdown",
      "source": [
        "\n",
        "#\"Data mining approach for predicting fiber diameter, length, and ratio: A case study of BFRC (Basalt Fiber Reinforced Concrete)\"\n",
        "**WITH MULTIPLE REGRESSION**\n",
        "\n",
        "\n"
      ],
      "metadata": {
        "id": "TBXOBwa_ShEA"
      }
    },
    {
      "cell_type": "markdown",
      "metadata": {
        "id": "Li__JjmWsKHZ"
      },
      "source": [
        "#Import to Librarys\n"
      ]
    },
    {
      "cell_type": "code",
      "execution_count": 739,
      "metadata": {
        "id": "XFvrLQctsHy3"
      },
      "outputs": [],
      "source": [
        "import numpy as np\n",
        "import matplotlib.pyplot as plt\n",
        "import seaborn as sns\n",
        "import pandas as pd\n",
        "from sklearn import datasets\n",
        "from sklearn.tree import DecisionTreeRegressor\n",
        "from sklearn import tree\n",
        "#% matplotlib inline"
      ]
    },
    {
      "cell_type": "markdown",
      "source": [
        "#Download Data (format CSV)"
      ],
      "metadata": {
        "id": "_LNvdRZ5Jxq3"
      }
    },
    {
      "cell_type": "code",
      "execution_count": 740,
      "metadata": {
        "colab": {
          "base_uri": "https://localhost:8080/",
          "height": 305
        },
        "id": "iIKWUfbJtPTX",
        "outputId": "5dc5a161-6e53-45f4-d9d0-941449d94d59"
      },
      "outputs": [
        {
          "output_type": "execute_result",
          "data": {
            "text/plain": [
              "   Su (kg/m3)  Cimento (kg/m3)  Ucucu kul (kg/m3)  Mikrosilika (kg/m3)  \\\n",
              "0       450.0              0.0                0.0               1150.0   \n",
              "1       450.0              0.0                0.0               1150.0   \n",
              "2       450.0              0.0                0.0               1150.0   \n",
              "3       450.0              0.0                0.0               1150.0   \n",
              "4       450.0              0.0                0.0               1150.0   \n",
              "\n",
              "   Kalin agrega (kg/m3)  Ince agrega (kg/m3)  Su azaltici (kg/m3)  \\\n",
              "0                 670.0                  207                  0.0   \n",
              "1                 670.0                  207                  0.0   \n",
              "2                 670.0                  207                  0.0   \n",
              "3                 670.0                  207                  0.0   \n",
              "4                 670.0                  207                  0.0   \n",
              "\n",
              "   Fiber capi (mm)  Fiber uzunlugu (mm)  Fiber orani (%)  Cekme dayanimi (MPa)  \n",
              "0             0.02                   30             0.00                  4.03  \n",
              "1             0.02                   30             0.05                  4.17  \n",
              "2             0.02                   30             0.10                  4.35  \n",
              "3             0.02                   30             0.15                  4.52  \n",
              "4             0.02                   30             0.20                  4.74  "
            ],
            "text/html": [
              "\n",
              "  <div id=\"df-3645558c-6a3d-417f-be4d-54fe4dcccc12\">\n",
              "    <div class=\"colab-df-container\">\n",
              "      <div>\n",
              "<style scoped>\n",
              "    .dataframe tbody tr th:only-of-type {\n",
              "        vertical-align: middle;\n",
              "    }\n",
              "\n",
              "    .dataframe tbody tr th {\n",
              "        vertical-align: top;\n",
              "    }\n",
              "\n",
              "    .dataframe thead th {\n",
              "        text-align: right;\n",
              "    }\n",
              "</style>\n",
              "<table border=\"1\" class=\"dataframe\">\n",
              "  <thead>\n",
              "    <tr style=\"text-align: right;\">\n",
              "      <th></th>\n",
              "      <th>Su (kg/m3)</th>\n",
              "      <th>Cimento (kg/m3)</th>\n",
              "      <th>Ucucu kul (kg/m3)</th>\n",
              "      <th>Mikrosilika (kg/m3)</th>\n",
              "      <th>Kalin agrega (kg/m3)</th>\n",
              "      <th>Ince agrega (kg/m3)</th>\n",
              "      <th>Su azaltici (kg/m3)</th>\n",
              "      <th>Fiber capi (mm)</th>\n",
              "      <th>Fiber uzunlugu (mm)</th>\n",
              "      <th>Fiber orani (%)</th>\n",
              "      <th>Cekme dayanimi (MPa)</th>\n",
              "    </tr>\n",
              "  </thead>\n",
              "  <tbody>\n",
              "    <tr>\n",
              "      <th>0</th>\n",
              "      <td>450.0</td>\n",
              "      <td>0.0</td>\n",
              "      <td>0.0</td>\n",
              "      <td>1150.0</td>\n",
              "      <td>670.0</td>\n",
              "      <td>207</td>\n",
              "      <td>0.0</td>\n",
              "      <td>0.02</td>\n",
              "      <td>30</td>\n",
              "      <td>0.00</td>\n",
              "      <td>4.03</td>\n",
              "    </tr>\n",
              "    <tr>\n",
              "      <th>1</th>\n",
              "      <td>450.0</td>\n",
              "      <td>0.0</td>\n",
              "      <td>0.0</td>\n",
              "      <td>1150.0</td>\n",
              "      <td>670.0</td>\n",
              "      <td>207</td>\n",
              "      <td>0.0</td>\n",
              "      <td>0.02</td>\n",
              "      <td>30</td>\n",
              "      <td>0.05</td>\n",
              "      <td>4.17</td>\n",
              "    </tr>\n",
              "    <tr>\n",
              "      <th>2</th>\n",
              "      <td>450.0</td>\n",
              "      <td>0.0</td>\n",
              "      <td>0.0</td>\n",
              "      <td>1150.0</td>\n",
              "      <td>670.0</td>\n",
              "      <td>207</td>\n",
              "      <td>0.0</td>\n",
              "      <td>0.02</td>\n",
              "      <td>30</td>\n",
              "      <td>0.10</td>\n",
              "      <td>4.35</td>\n",
              "    </tr>\n",
              "    <tr>\n",
              "      <th>3</th>\n",
              "      <td>450.0</td>\n",
              "      <td>0.0</td>\n",
              "      <td>0.0</td>\n",
              "      <td>1150.0</td>\n",
              "      <td>670.0</td>\n",
              "      <td>207</td>\n",
              "      <td>0.0</td>\n",
              "      <td>0.02</td>\n",
              "      <td>30</td>\n",
              "      <td>0.15</td>\n",
              "      <td>4.52</td>\n",
              "    </tr>\n",
              "    <tr>\n",
              "      <th>4</th>\n",
              "      <td>450.0</td>\n",
              "      <td>0.0</td>\n",
              "      <td>0.0</td>\n",
              "      <td>1150.0</td>\n",
              "      <td>670.0</td>\n",
              "      <td>207</td>\n",
              "      <td>0.0</td>\n",
              "      <td>0.02</td>\n",
              "      <td>30</td>\n",
              "      <td>0.20</td>\n",
              "      <td>4.74</td>\n",
              "    </tr>\n",
              "  </tbody>\n",
              "</table>\n",
              "</div>\n",
              "      <button class=\"colab-df-convert\" onclick=\"convertToInteractive('df-3645558c-6a3d-417f-be4d-54fe4dcccc12')\"\n",
              "              title=\"Convert this dataframe to an interactive table.\"\n",
              "              style=\"display:none;\">\n",
              "        \n",
              "  <svg xmlns=\"http://www.w3.org/2000/svg\" height=\"24px\"viewBox=\"0 0 24 24\"\n",
              "       width=\"24px\">\n",
              "    <path d=\"M0 0h24v24H0V0z\" fill=\"none\"/>\n",
              "    <path d=\"M18.56 5.44l.94 2.06.94-2.06 2.06-.94-2.06-.94-.94-2.06-.94 2.06-2.06.94zm-11 1L8.5 8.5l.94-2.06 2.06-.94-2.06-.94L8.5 2.5l-.94 2.06-2.06.94zm10 10l.94 2.06.94-2.06 2.06-.94-2.06-.94-.94-2.06-.94 2.06-2.06.94z\"/><path d=\"M17.41 7.96l-1.37-1.37c-.4-.4-.92-.59-1.43-.59-.52 0-1.04.2-1.43.59L10.3 9.45l-7.72 7.72c-.78.78-.78 2.05 0 2.83L4 21.41c.39.39.9.59 1.41.59.51 0 1.02-.2 1.41-.59l7.78-7.78 2.81-2.81c.8-.78.8-2.07 0-2.86zM5.41 20L4 18.59l7.72-7.72 1.47 1.35L5.41 20z\"/>\n",
              "  </svg>\n",
              "      </button>\n",
              "      \n",
              "  <style>\n",
              "    .colab-df-container {\n",
              "      display:flex;\n",
              "      flex-wrap:wrap;\n",
              "      gap: 12px;\n",
              "    }\n",
              "\n",
              "    .colab-df-convert {\n",
              "      background-color: #E8F0FE;\n",
              "      border: none;\n",
              "      border-radius: 50%;\n",
              "      cursor: pointer;\n",
              "      display: none;\n",
              "      fill: #1967D2;\n",
              "      height: 32px;\n",
              "      padding: 0 0 0 0;\n",
              "      width: 32px;\n",
              "    }\n",
              "\n",
              "    .colab-df-convert:hover {\n",
              "      background-color: #E2EBFA;\n",
              "      box-shadow: 0px 1px 2px rgba(60, 64, 67, 0.3), 0px 1px 3px 1px rgba(60, 64, 67, 0.15);\n",
              "      fill: #174EA6;\n",
              "    }\n",
              "\n",
              "    [theme=dark] .colab-df-convert {\n",
              "      background-color: #3B4455;\n",
              "      fill: #D2E3FC;\n",
              "    }\n",
              "\n",
              "    [theme=dark] .colab-df-convert:hover {\n",
              "      background-color: #434B5C;\n",
              "      box-shadow: 0px 1px 3px 1px rgba(0, 0, 0, 0.15);\n",
              "      filter: drop-shadow(0px 1px 2px rgba(0, 0, 0, 0.3));\n",
              "      fill: #FFFFFF;\n",
              "    }\n",
              "  </style>\n",
              "\n",
              "      <script>\n",
              "        const buttonEl =\n",
              "          document.querySelector('#df-3645558c-6a3d-417f-be4d-54fe4dcccc12 button.colab-df-convert');\n",
              "        buttonEl.style.display =\n",
              "          google.colab.kernel.accessAllowed ? 'block' : 'none';\n",
              "\n",
              "        async function convertToInteractive(key) {\n",
              "          const element = document.querySelector('#df-3645558c-6a3d-417f-be4d-54fe4dcccc12');\n",
              "          const dataTable =\n",
              "            await google.colab.kernel.invokeFunction('convertToInteractive',\n",
              "                                                     [key], {});\n",
              "          if (!dataTable) return;\n",
              "\n",
              "          const docLinkHtml = 'Like what you see? Visit the ' +\n",
              "            '<a target=\"_blank\" href=https://colab.research.google.com/notebooks/data_table.ipynb>data table notebook</a>'\n",
              "            + ' to learn more about interactive tables.';\n",
              "          element.innerHTML = '';\n",
              "          dataTable['output_type'] = 'display_data';\n",
              "          await google.colab.output.renderOutput(dataTable, element);\n",
              "          const docLink = document.createElement('div');\n",
              "          docLink.innerHTML = docLinkHtml;\n",
              "          element.appendChild(docLink);\n",
              "        }\n",
              "      </script>\n",
              "    </div>\n",
              "  </div>\n",
              "  "
            ]
          },
          "metadata": {},
          "execution_count": 740
        }
      ],
      "source": [
        "dt = pd.read_csv('/content/bfrc.csv')\n",
        "dt.head()"
      ]
    },
    {
      "cell_type": "code",
      "source": [
        "dt.info()"
      ],
      "metadata": {
        "colab": {
          "base_uri": "https://localhost:8080/"
        },
        "id": "rDAzuFYs63P8",
        "outputId": "627e939b-8121-41c7-9982-661851881d4f"
      },
      "execution_count": 741,
      "outputs": [
        {
          "output_type": "stream",
          "name": "stdout",
          "text": [
            "<class 'pandas.core.frame.DataFrame'>\n",
            "RangeIndex: 267 entries, 0 to 266\n",
            "Data columns (total 11 columns):\n",
            " #   Column                Non-Null Count  Dtype  \n",
            "---  ------                --------------  -----  \n",
            " 0   Su (kg/m3)            267 non-null    float64\n",
            " 1   Cimento (kg/m3)       267 non-null    float64\n",
            " 2   Ucucu kul (kg/m3)     267 non-null    float64\n",
            " 3   Mikrosilika (kg/m3)   267 non-null    float64\n",
            " 4   Kalin agrega (kg/m3)  267 non-null    float64\n",
            " 5   Ince agrega (kg/m3)   267 non-null    int64  \n",
            " 6   Su azaltici (kg/m3)   267 non-null    float64\n",
            " 7   Fiber capi (mm)       267 non-null    float64\n",
            " 8   Fiber uzunlugu (mm)   267 non-null    int64  \n",
            " 9   Fiber orani (%)       267 non-null    float64\n",
            " 10  Cekme dayanimi (MPa)  267 non-null    float64\n",
            "dtypes: float64(9), int64(2)\n",
            "memory usage: 23.1 KB\n"
          ]
        }
      ]
    },
    {
      "cell_type": "markdown",
      "source": [
        "## Checking the number of null values in th dataset"
      ],
      "metadata": {
        "id": "utoHR-uj2Oma"
      }
    },
    {
      "cell_type": "code",
      "source": [
        "dt.isnull().sum()"
      ],
      "metadata": {
        "colab": {
          "base_uri": "https://localhost:8080/"
        },
        "id": "gphLjyB_2FuK",
        "outputId": "be078aae-e6ac-41dd-e456-a1aaba34a5b7"
      },
      "execution_count": 742,
      "outputs": [
        {
          "output_type": "execute_result",
          "data": {
            "text/plain": [
              "Su (kg/m3)              0\n",
              "Cimento (kg/m3)         0\n",
              "Ucucu kul (kg/m3)       0\n",
              "Mikrosilika (kg/m3)     0\n",
              "Kalin agrega (kg/m3)    0\n",
              "Ince agrega (kg/m3)     0\n",
              "Su azaltici (kg/m3)     0\n",
              "Fiber capi (mm)         0\n",
              "Fiber uzunlugu (mm)     0\n",
              "Fiber orani (%)         0\n",
              "Cekme dayanimi (MPa)    0\n",
              "dtype: int64"
            ]
          },
          "metadata": {},
          "execution_count": 742
        }
      ]
    },
    {
      "cell_type": "code",
      "source": [
        "dt.describe()"
      ],
      "metadata": {
        "colab": {
          "base_uri": "https://localhost:8080/",
          "height": 399
        },
        "id": "yMcYBbm26cDi",
        "outputId": "5b5906e5-233c-41b1-fde1-11f42191c19a"
      },
      "execution_count": 743,
      "outputs": [
        {
          "output_type": "execute_result",
          "data": {
            "text/plain": [
              "       Su (kg/m3)  Cimento (kg/m3)  Ucucu kul (kg/m3)  Mikrosilika (kg/m3)  \\\n",
              "count  267.000000       267.000000         267.000000           267.000000   \n",
              "mean   402.544719        45.717453          16.429213          1079.504644   \n",
              "std     73.920000        56.470326          31.284398           161.986898   \n",
              "min    217.000000         0.000000           0.000000           512.000000   \n",
              "25%    353.500000         0.000000           0.000000           998.000000   \n",
              "50%    402.000000         0.000000           0.000000          1125.000000   \n",
              "75%    450.000000        86.000000          20.000000          1180.000000   \n",
              "max    613.330000       168.000000         126.000000          1540.000000   \n",
              "\n",
              "       Kalin agrega (kg/m3)  Ince agrega (kg/m3)  Su azaltici (kg/m3)  \\\n",
              "count            267.000000           267.000000           267.000000   \n",
              "mean             697.829438           177.606742             3.337865   \n",
              "std               88.452215            29.875916             2.242625   \n",
              "min              507.000000           125.000000             0.000000   \n",
              "25%              633.000000           160.000000             2.400000   \n",
              "50%              688.000000           179.000000             4.000000   \n",
              "75%              781.000000           188.000000             4.810000   \n",
              "max              875.000000           301.000000             8.360000   \n",
              "\n",
              "       Fiber capi (mm)  Fiber uzunlugu (mm)  Fiber orani (%)  \\\n",
              "count       267.000000           267.000000       267.000000   \n",
              "mean          0.015930            16.749064         0.126592   \n",
              "std           0.002699             6.376704         0.106337   \n",
              "min           0.013000             6.000000         0.000000   \n",
              "25%           0.015000            12.000000         0.050000   \n",
              "50%           0.015000            18.000000         0.100000   \n",
              "75%           0.015500            20.000000         0.200000   \n",
              "max           0.030000            30.000000         0.500000   \n",
              "\n",
              "       Cekme dayanimi (MPa)  \n",
              "count            267.000000  \n",
              "mean               4.348101  \n",
              "std                1.739823  \n",
              "min                2.200000  \n",
              "25%                3.182500  \n",
              "50%                3.724000  \n",
              "75%                4.885000  \n",
              "max                9.800000  "
            ],
            "text/html": [
              "\n",
              "  <div id=\"df-0b40ce18-39bf-4dfb-b2f0-5743cd5059ca\">\n",
              "    <div class=\"colab-df-container\">\n",
              "      <div>\n",
              "<style scoped>\n",
              "    .dataframe tbody tr th:only-of-type {\n",
              "        vertical-align: middle;\n",
              "    }\n",
              "\n",
              "    .dataframe tbody tr th {\n",
              "        vertical-align: top;\n",
              "    }\n",
              "\n",
              "    .dataframe thead th {\n",
              "        text-align: right;\n",
              "    }\n",
              "</style>\n",
              "<table border=\"1\" class=\"dataframe\">\n",
              "  <thead>\n",
              "    <tr style=\"text-align: right;\">\n",
              "      <th></th>\n",
              "      <th>Su (kg/m3)</th>\n",
              "      <th>Cimento (kg/m3)</th>\n",
              "      <th>Ucucu kul (kg/m3)</th>\n",
              "      <th>Mikrosilika (kg/m3)</th>\n",
              "      <th>Kalin agrega (kg/m3)</th>\n",
              "      <th>Ince agrega (kg/m3)</th>\n",
              "      <th>Su azaltici (kg/m3)</th>\n",
              "      <th>Fiber capi (mm)</th>\n",
              "      <th>Fiber uzunlugu (mm)</th>\n",
              "      <th>Fiber orani (%)</th>\n",
              "      <th>Cekme dayanimi (MPa)</th>\n",
              "    </tr>\n",
              "  </thead>\n",
              "  <tbody>\n",
              "    <tr>\n",
              "      <th>count</th>\n",
              "      <td>267.000000</td>\n",
              "      <td>267.000000</td>\n",
              "      <td>267.000000</td>\n",
              "      <td>267.000000</td>\n",
              "      <td>267.000000</td>\n",
              "      <td>267.000000</td>\n",
              "      <td>267.000000</td>\n",
              "      <td>267.000000</td>\n",
              "      <td>267.000000</td>\n",
              "      <td>267.000000</td>\n",
              "      <td>267.000000</td>\n",
              "    </tr>\n",
              "    <tr>\n",
              "      <th>mean</th>\n",
              "      <td>402.544719</td>\n",
              "      <td>45.717453</td>\n",
              "      <td>16.429213</td>\n",
              "      <td>1079.504644</td>\n",
              "      <td>697.829438</td>\n",
              "      <td>177.606742</td>\n",
              "      <td>3.337865</td>\n",
              "      <td>0.015930</td>\n",
              "      <td>16.749064</td>\n",
              "      <td>0.126592</td>\n",
              "      <td>4.348101</td>\n",
              "    </tr>\n",
              "    <tr>\n",
              "      <th>std</th>\n",
              "      <td>73.920000</td>\n",
              "      <td>56.470326</td>\n",
              "      <td>31.284398</td>\n",
              "      <td>161.986898</td>\n",
              "      <td>88.452215</td>\n",
              "      <td>29.875916</td>\n",
              "      <td>2.242625</td>\n",
              "      <td>0.002699</td>\n",
              "      <td>6.376704</td>\n",
              "      <td>0.106337</td>\n",
              "      <td>1.739823</td>\n",
              "    </tr>\n",
              "    <tr>\n",
              "      <th>min</th>\n",
              "      <td>217.000000</td>\n",
              "      <td>0.000000</td>\n",
              "      <td>0.000000</td>\n",
              "      <td>512.000000</td>\n",
              "      <td>507.000000</td>\n",
              "      <td>125.000000</td>\n",
              "      <td>0.000000</td>\n",
              "      <td>0.013000</td>\n",
              "      <td>6.000000</td>\n",
              "      <td>0.000000</td>\n",
              "      <td>2.200000</td>\n",
              "    </tr>\n",
              "    <tr>\n",
              "      <th>25%</th>\n",
              "      <td>353.500000</td>\n",
              "      <td>0.000000</td>\n",
              "      <td>0.000000</td>\n",
              "      <td>998.000000</td>\n",
              "      <td>633.000000</td>\n",
              "      <td>160.000000</td>\n",
              "      <td>2.400000</td>\n",
              "      <td>0.015000</td>\n",
              "      <td>12.000000</td>\n",
              "      <td>0.050000</td>\n",
              "      <td>3.182500</td>\n",
              "    </tr>\n",
              "    <tr>\n",
              "      <th>50%</th>\n",
              "      <td>402.000000</td>\n",
              "      <td>0.000000</td>\n",
              "      <td>0.000000</td>\n",
              "      <td>1125.000000</td>\n",
              "      <td>688.000000</td>\n",
              "      <td>179.000000</td>\n",
              "      <td>4.000000</td>\n",
              "      <td>0.015000</td>\n",
              "      <td>18.000000</td>\n",
              "      <td>0.100000</td>\n",
              "      <td>3.724000</td>\n",
              "    </tr>\n",
              "    <tr>\n",
              "      <th>75%</th>\n",
              "      <td>450.000000</td>\n",
              "      <td>86.000000</td>\n",
              "      <td>20.000000</td>\n",
              "      <td>1180.000000</td>\n",
              "      <td>781.000000</td>\n",
              "      <td>188.000000</td>\n",
              "      <td>4.810000</td>\n",
              "      <td>0.015500</td>\n",
              "      <td>20.000000</td>\n",
              "      <td>0.200000</td>\n",
              "      <td>4.885000</td>\n",
              "    </tr>\n",
              "    <tr>\n",
              "      <th>max</th>\n",
              "      <td>613.330000</td>\n",
              "      <td>168.000000</td>\n",
              "      <td>126.000000</td>\n",
              "      <td>1540.000000</td>\n",
              "      <td>875.000000</td>\n",
              "      <td>301.000000</td>\n",
              "      <td>8.360000</td>\n",
              "      <td>0.030000</td>\n",
              "      <td>30.000000</td>\n",
              "      <td>0.500000</td>\n",
              "      <td>9.800000</td>\n",
              "    </tr>\n",
              "  </tbody>\n",
              "</table>\n",
              "</div>\n",
              "      <button class=\"colab-df-convert\" onclick=\"convertToInteractive('df-0b40ce18-39bf-4dfb-b2f0-5743cd5059ca')\"\n",
              "              title=\"Convert this dataframe to an interactive table.\"\n",
              "              style=\"display:none;\">\n",
              "        \n",
              "  <svg xmlns=\"http://www.w3.org/2000/svg\" height=\"24px\"viewBox=\"0 0 24 24\"\n",
              "       width=\"24px\">\n",
              "    <path d=\"M0 0h24v24H0V0z\" fill=\"none\"/>\n",
              "    <path d=\"M18.56 5.44l.94 2.06.94-2.06 2.06-.94-2.06-.94-.94-2.06-.94 2.06-2.06.94zm-11 1L8.5 8.5l.94-2.06 2.06-.94-2.06-.94L8.5 2.5l-.94 2.06-2.06.94zm10 10l.94 2.06.94-2.06 2.06-.94-2.06-.94-.94-2.06-.94 2.06-2.06.94z\"/><path d=\"M17.41 7.96l-1.37-1.37c-.4-.4-.92-.59-1.43-.59-.52 0-1.04.2-1.43.59L10.3 9.45l-7.72 7.72c-.78.78-.78 2.05 0 2.83L4 21.41c.39.39.9.59 1.41.59.51 0 1.02-.2 1.41-.59l7.78-7.78 2.81-2.81c.8-.78.8-2.07 0-2.86zM5.41 20L4 18.59l7.72-7.72 1.47 1.35L5.41 20z\"/>\n",
              "  </svg>\n",
              "      </button>\n",
              "      \n",
              "  <style>\n",
              "    .colab-df-container {\n",
              "      display:flex;\n",
              "      flex-wrap:wrap;\n",
              "      gap: 12px;\n",
              "    }\n",
              "\n",
              "    .colab-df-convert {\n",
              "      background-color: #E8F0FE;\n",
              "      border: none;\n",
              "      border-radius: 50%;\n",
              "      cursor: pointer;\n",
              "      display: none;\n",
              "      fill: #1967D2;\n",
              "      height: 32px;\n",
              "      padding: 0 0 0 0;\n",
              "      width: 32px;\n",
              "    }\n",
              "\n",
              "    .colab-df-convert:hover {\n",
              "      background-color: #E2EBFA;\n",
              "      box-shadow: 0px 1px 2px rgba(60, 64, 67, 0.3), 0px 1px 3px 1px rgba(60, 64, 67, 0.15);\n",
              "      fill: #174EA6;\n",
              "    }\n",
              "\n",
              "    [theme=dark] .colab-df-convert {\n",
              "      background-color: #3B4455;\n",
              "      fill: #D2E3FC;\n",
              "    }\n",
              "\n",
              "    [theme=dark] .colab-df-convert:hover {\n",
              "      background-color: #434B5C;\n",
              "      box-shadow: 0px 1px 3px 1px rgba(0, 0, 0, 0.15);\n",
              "      filter: drop-shadow(0px 1px 2px rgba(0, 0, 0, 0.3));\n",
              "      fill: #FFFFFF;\n",
              "    }\n",
              "  </style>\n",
              "\n",
              "      <script>\n",
              "        const buttonEl =\n",
              "          document.querySelector('#df-0b40ce18-39bf-4dfb-b2f0-5743cd5059ca button.colab-df-convert');\n",
              "        buttonEl.style.display =\n",
              "          google.colab.kernel.accessAllowed ? 'block' : 'none';\n",
              "\n",
              "        async function convertToInteractive(key) {\n",
              "          const element = document.querySelector('#df-0b40ce18-39bf-4dfb-b2f0-5743cd5059ca');\n",
              "          const dataTable =\n",
              "            await google.colab.kernel.invokeFunction('convertToInteractive',\n",
              "                                                     [key], {});\n",
              "          if (!dataTable) return;\n",
              "\n",
              "          const docLinkHtml = 'Like what you see? Visit the ' +\n",
              "            '<a target=\"_blank\" href=https://colab.research.google.com/notebooks/data_table.ipynb>data table notebook</a>'\n",
              "            + ' to learn more about interactive tables.';\n",
              "          element.innerHTML = '';\n",
              "          dataTable['output_type'] = 'display_data';\n",
              "          await google.colab.output.renderOutput(dataTable, element);\n",
              "          const docLink = document.createElement('div');\n",
              "          docLink.innerHTML = docLinkHtml;\n",
              "          element.appendChild(docLink);\n",
              "        }\n",
              "      </script>\n",
              "    </div>\n",
              "  </div>\n",
              "  "
            ]
          },
          "metadata": {},
          "execution_count": 743
        }
      ]
    },
    {
      "cell_type": "markdown",
      "source": [
        "#Bootstrap ile Örneklem artırma"
      ],
      "metadata": {
        "id": "HhBMLwYEAPEw"
      }
    },
    {
      "cell_type": "code",
      "source": [
        "bootstrap_sample = dt.sample(n=500, replace=True)"
      ],
      "metadata": {
        "id": "az4NPJD6AVF5"
      },
      "execution_count": 744,
      "outputs": []
    },
    {
      "cell_type": "code",
      "source": [
        "dt = pd.concat([dt, bootstrap_sample])"
      ],
      "metadata": {
        "id": "3Rf7IsACAYHN"
      },
      "execution_count": 745,
      "outputs": []
    },
    {
      "cell_type": "code",
      "source": [
        "dt.index"
      ],
      "metadata": {
        "colab": {
          "base_uri": "https://localhost:8080/"
        },
        "id": "rzbd6lxXA6FB",
        "outputId": "7374c704-d471-4de4-88ac-2258e54dbc8e"
      },
      "execution_count": 746,
      "outputs": [
        {
          "output_type": "execute_result",
          "data": {
            "text/plain": [
              "Int64Index([  0,   1,   2,   3,   4,   5,   6,   7,   8,   9,\n",
              "            ...\n",
              "            154,  90, 260,  97,  35, 196, 242, 266,  75,  22],\n",
              "           dtype='int64', length=767)"
            ]
          },
          "metadata": {},
          "execution_count": 746
        }
      ]
    },
    {
      "cell_type": "code",
      "source": [
        "dt.columns"
      ],
      "metadata": {
        "colab": {
          "base_uri": "https://localhost:8080/"
        },
        "id": "45iLMlb9Bff5",
        "outputId": "66e62b15-c48e-452b-9160-b6a33c4ac735"
      },
      "execution_count": 747,
      "outputs": [
        {
          "output_type": "execute_result",
          "data": {
            "text/plain": [
              "Index(['Su (kg/m3)', 'Cimento (kg/m3)', 'Ucucu kul (kg/m3)',\n",
              "       'Mikrosilika (kg/m3)', 'Kalin agrega (kg/m3)', 'Ince agrega (kg/m3)',\n",
              "       'Su azaltici (kg/m3)', 'Fiber capi (mm)', 'Fiber uzunlugu (mm)',\n",
              "       'Fiber orani (%)', 'Cekme dayanimi (MPa)'],\n",
              "      dtype='object')"
            ]
          },
          "metadata": {},
          "execution_count": 747
        }
      ]
    },
    {
      "cell_type": "markdown",
      "source": [
        "##CORRELATION DIAGRAM"
      ],
      "metadata": {
        "id": "9TSp40xIu7J3"
      }
    },
    {
      "cell_type": "markdown",
      "source": [],
      "metadata": {
        "id": "FM9y3f9NGi8I"
      }
    },
    {
      "cell_type": "code",
      "source": [
        "from matplotlib.cm import scale\n",
        "corr = dt.corr()\n",
        "sns.heatmap(corr, annot = True)"
      ],
      "metadata": {
        "id": "GBU4sMQdv0Z3",
        "colab": {
          "base_uri": "https://localhost:8080/",
          "height": 1000
        },
        "outputId": "fa6b1afd-22a2-4cb8-fd51-ef2bdbd2d768"
      },
      "execution_count": 748,
      "outputs": [
        {
          "output_type": "execute_result",
          "data": {
            "text/plain": [
              "<Axes: >"
            ]
          },
          "metadata": {},
          "execution_count": 748
        },
        {
          "output_type": "display_data",
          "data": {
            "text/plain": [
              "<Figure size 720x1440 with 2 Axes>"
            ],
            "image/png": "[encoded data removed]"
          },
          "metadata": {}
        }
      ]
    },
    {
      "cell_type": "markdown",
      "source": [
        "\n",
        "\n",
        "\n",
        "##DATA VISUALIZATION\n",
        "\n",
        "\n",
        "\n"
      ],
      "metadata": {
        "id": "ottobtD-uzc9"
      }
    },
    {
      "cell_type": "code",
      "source": [
        "#sns.set(style='white',font_scale=1.2, rc={'figure.figsize':(10,20)})\n",
        "#ax=dt.hist(bins=20,color='red' )"
      ],
      "metadata": {
        "id": "cxR4X1zEhlE8"
      },
      "execution_count": 749,
      "outputs": []
    },
    {
      "cell_type": "markdown",
      "source": [
        "\n",
        "\n",
        "\n",
        "\n"
      ],
      "metadata": {
        "id": "0iIbtL0F_Vcs"
      }
    },
    {
      "cell_type": "markdown",
      "metadata": {
        "id": "aiuyXkUlu5Bq"
      },
      "source": [
        "#CORRELATIONS SCATTER PLOT "
      ]
    },
    {
      "cell_type": "code",
      "execution_count": 750,
      "metadata": {
        "id": "Uw9D7aqHu-wm"
      },
      "outputs": [],
      "source": [
        "#sns.pairplot(dt, height=3)"
      ]
    },
    {
      "cell_type": "markdown",
      "source": [
        "#Target Feature Separation"
      ],
      "metadata": {
        "id": "fs00t_bAFxRn"
      }
    },
    {
      "cell_type": "markdown",
      "source": [
        "'Stress' Seperation"
      ],
      "metadata": {
        "id": "ndpyVj_5F7J7"
      }
    },
    {
      "cell_type": "code",
      "execution_count": 751,
      "metadata": {
        "id": "quIGwqhAWP71"
      },
      "outputs": [],
      "source": [
        "X = dt.drop(['Fiber orani (%)','Fiber capi (mm)','Fiber uzunlugu (mm)'], axis = 1)\n",
        "y1=dt['Fiber capi (mm)']\n",
        "y2=dt['Fiber orani (%)']\n",
        "y3=dt['Fiber uzunlugu (mm)']"
      ]
    },
    {
      "cell_type": "code",
      "source": [
        "X"
      ],
      "metadata": {
        "colab": {
          "base_uri": "https://localhost:8080/",
          "height": 502
        },
        "id": "4Ea6dYRhPfGs",
        "outputId": "734b1dc9-5478-4fae-e3d6-9391dd414ed1"
      },
      "execution_count": 752,
      "outputs": [
        {
          "output_type": "execute_result",
          "data": {
            "text/plain": [
              "     Su (kg/m3)  Cimento (kg/m3)  Ucucu kul (kg/m3)  Mikrosilika (kg/m3)  \\\n",
              "0         450.0              0.0                0.0               1150.0   \n",
              "1         450.0              0.0                0.0               1150.0   \n",
              "2         450.0              0.0                0.0               1150.0   \n",
              "3         450.0              0.0                0.0               1150.0   \n",
              "4         450.0              0.0                0.0               1150.0   \n",
              "..          ...              ...                ...                  ...   \n",
              "196       470.0             22.0              108.0               1052.0   \n",
              "242       390.0              0.0                0.0               1180.0   \n",
              "266       264.0              0.0                0.0                851.0   \n",
              "75        478.4              0.0                0.0               1181.3   \n",
              "22        217.0             54.0                0.0               1284.0   \n",
              "\n",
              "     Kalin agrega (kg/m3)  Ince agrega (kg/m3)  Su azaltici (kg/m3)  \\\n",
              "0                   670.0                  207                 0.00   \n",
              "1                   670.0                  207                 0.00   \n",
              "2                   670.0                  207                 0.00   \n",
              "3                   670.0                  207                 0.00   \n",
              "4                   670.0                  207                 0.00   \n",
              "..                    ...                  ...                  ...   \n",
              "196                 696.0                  162                 4.90   \n",
              "242                 635.0                  195                 7.00   \n",
              "266                 507.0                  145                 0.00   \n",
              "75                  549.3                  191                 0.00   \n",
              "22                  691.5                  125                 2.71   \n",
              "\n",
              "     Cekme dayanimi (MPa)  \n",
              "0                    4.03  \n",
              "1                    4.17  \n",
              "2                    4.35  \n",
              "3                    4.52  \n",
              "4                    4.74  \n",
              "..                    ...  \n",
              "196                  3.47  \n",
              "242                  3.62  \n",
              "266                  2.88  \n",
              "75                   3.15  \n",
              "22                   2.38  \n",
              "\n",
              "[767 rows x 8 columns]"
            ],
            "text/html": [
              "\n",
              "  <div id=\"df-be3d0193-959d-4f93-ae10-af8f7037bf11\">\n",
              "    <div class=\"colab-df-container\">\n",
              "      <div>\n",
              "<style scoped>\n",
              "    .dataframe tbody tr th:only-of-type {\n",
              "        vertical-align: middle;\n",
              "    }\n",
              "\n",
              "    .dataframe tbody tr th {\n",
              "        vertical-align: top;\n",
              "    }\n",
              "\n",
              "    .dataframe thead th {\n",
              "        text-align: right;\n",
              "    }\n",
              "</style>\n",
              "<table border=\"1\" class=\"dataframe\">\n",
              "  <thead>\n",
              "    <tr style=\"text-align: right;\">\n",
              "      <th></th>\n",
              "      <th>Su (kg/m3)</th>\n",
              "      <th>Cimento (kg/m3)</th>\n",
              "      <th>Ucucu kul (kg/m3)</th>\n",
              "      <th>Mikrosilika (kg/m3)</th>\n",
              "      <th>Kalin agrega (kg/m3)</th>\n",
              "      <th>Ince agrega (kg/m3)</th>\n",
              "      <th>Su azaltici (kg/m3)</th>\n",
              "      <th>Cekme dayanimi (MPa)</th>\n",
              "    </tr>\n",
              "  </thead>\n",
              "  <tbody>\n",
              "    <tr>\n",
              "      <th>0</th>\n",
              "      <td>450.0</td>\n",
              "      <td>0.0</td>\n",
              "      <td>0.0</td>\n",
              "      <td>1150.0</td>\n",
              "      <td>670.0</td>\n",
              "      <td>207</td>\n",
              "      <td>0.00</td>\n",
              "      <td>4.03</td>\n",
              "    </tr>\n",
              "    <tr>\n",
              "      <th>1</th>\n",
              "      <td>450.0</td>\n",
              "      <td>0.0</td>\n",
              "      <td>0.0</td>\n",
              "      <td>1150.0</td>\n",
              "      <td>670.0</td>\n",
              "      <td>207</td>\n",
              "      <td>0.00</td>\n",
              "      <td>4.17</td>\n",
              "    </tr>\n",
              "    <tr>\n",
              "      <th>2</th>\n",
              "      <td>450.0</td>\n",
              "      <td>0.0</td>\n",
              "      <td>0.0</td>\n",
              "      <td>1150.0</td>\n",
              "      <td>670.0</td>\n",
              "      <td>207</td>\n",
              "      <td>0.00</td>\n",
              "      <td>4.35</td>\n",
              "    </tr>\n",
              "    <tr>\n",
              "      <th>3</th>\n",
              "      <td>450.0</td>\n",
              "      <td>0.0</td>\n",
              "      <td>0.0</td>\n",
              "      <td>1150.0</td>\n",
              "      <td>670.0</td>\n",
              "      <td>207</td>\n",
              "      <td>0.00</td>\n",
              "      <td>4.52</td>\n",
              "    </tr>\n",
              "    <tr>\n",
              "      <th>4</th>\n",
              "      <td>450.0</td>\n",
              "      <td>0.0</td>\n",
              "      <td>0.0</td>\n",
              "      <td>1150.0</td>\n",
              "      <td>670.0</td>\n",
              "      <td>207</td>\n",
              "      <td>0.00</td>\n",
              "      <td>4.74</td>\n",
              "    </tr>\n",
              "    <tr>\n",
              "      <th>...</th>\n",
              "      <td>...</td>\n",
              "      <td>...</td>\n",
              "      <td>...</td>\n",
              "      <td>...</td>\n",
              "      <td>...</td>\n",
              "      <td>...</td>\n",
              "      <td>...</td>\n",
              "      <td>...</td>\n",
              "    </tr>\n",
              "    <tr>\n",
              "      <th>196</th>\n",
              "      <td>470.0</td>\n",
              "      <td>22.0</td>\n",
              "      <td>108.0</td>\n",
              "      <td>1052.0</td>\n",
              "      <td>696.0</td>\n",
              "      <td>162</td>\n",
              "      <td>4.90</td>\n",
              "      <td>3.47</td>\n",
              "    </tr>\n",
              "    <tr>\n",
              "      <th>242</th>\n",
              "      <td>390.0</td>\n",
              "      <td>0.0</td>\n",
              "      <td>0.0</td>\n",
              "      <td>1180.0</td>\n",
              "      <td>635.0</td>\n",
              "      <td>195</td>\n",
              "      <td>7.00</td>\n",
              "      <td>3.62</td>\n",
              "    </tr>\n",
              "    <tr>\n",
              "      <th>266</th>\n",
              "      <td>264.0</td>\n",
              "      <td>0.0</td>\n",
              "      <td>0.0</td>\n",
              "      <td>851.0</td>\n",
              "      <td>507.0</td>\n",
              "      <td>145</td>\n",
              "      <td>0.00</td>\n",
              "      <td>2.88</td>\n",
              "    </tr>\n",
              "    <tr>\n",
              "      <th>75</th>\n",
              "      <td>478.4</td>\n",
              "      <td>0.0</td>\n",
              "      <td>0.0</td>\n",
              "      <td>1181.3</td>\n",
              "      <td>549.3</td>\n",
              "      <td>191</td>\n",
              "      <td>0.00</td>\n",
              "      <td>3.15</td>\n",
              "    </tr>\n",
              "    <tr>\n",
              "      <th>22</th>\n",
              "      <td>217.0</td>\n",
              "      <td>54.0</td>\n",
              "      <td>0.0</td>\n",
              "      <td>1284.0</td>\n",
              "      <td>691.5</td>\n",
              "      <td>125</td>\n",
              "      <td>2.71</td>\n",
              "      <td>2.38</td>\n",
              "    </tr>\n",
              "  </tbody>\n",
              "</table>\n",
              "<p>767 rows × 8 columns</p>\n",
              "</div>\n",
              "      <button class=\"colab-df-convert\" onclick=\"convertToInteractive('df-be3d0193-959d-4f93-ae10-af8f7037bf11')\"\n",
              "              title=\"Convert this dataframe to an interactive table.\"\n",
              "              style=\"display:none;\">\n",
              "        \n",
              "  <svg xmlns=\"http://www.w3.org/2000/svg\" height=\"24px\"viewBox=\"0 0 24 24\"\n",
              "       width=\"24px\">\n",
              "    <path d=\"M0 0h24v24H0V0z\" fill=\"none\"/>\n",
              "    <path d=\"M18.56 5.44l.94 2.06.94-2.06 2.06-.94-2.06-.94-.94-2.06-.94 2.06-2.06.94zm-11 1L8.5 8.5l.94-2.06 2.06-.94-2.06-.94L8.5 2.5l-.94 2.06-2.06.94zm10 10l.94 2.06.94-2.06 2.06-.94-2.06-.94-.94-2.06-.94 2.06-2.06.94z\"/><path d=\"M17.41 7.96l-1.37-1.37c-.4-.4-.92-.59-1.43-.59-.52 0-1.04.2-1.43.59L10.3 9.45l-7.72 7.72c-.78.78-.78 2.05 0 2.83L4 21.41c.39.39.9.59 1.41.59.51 0 1.02-.2 1.41-.59l7.78-7.78 2.81-2.81c.8-.78.8-2.07 0-2.86zM5.41 20L4 18.59l7.72-7.72 1.47 1.35L5.41 20z\"/>\n",
              "  </svg>\n",
              "      </button>\n",
              "      \n",
              "  <style>\n",
              "    .colab-df-container {\n",
              "      display:flex;\n",
              "      flex-wrap:wrap;\n",
              "      gap: 12px;\n",
              "    }\n",
              "\n",
              "    .colab-df-convert {\n",
              "      background-color: #E8F0FE;\n",
              "      border: none;\n",
              "      border-radius: 50%;\n",
              "      cursor: pointer;\n",
              "      display: none;\n",
              "      fill: #1967D2;\n",
              "      height: 32px;\n",
              "      padding: 0 0 0 0;\n",
              "      width: 32px;\n",
              "    }\n",
              "\n",
              "    .colab-df-convert:hover {\n",
              "      background-color: #E2EBFA;\n",
              "      box-shadow: 0px 1px 2px rgba(60, 64, 67, 0.3), 0px 1px 3px 1px rgba(60, 64, 67, 0.15);\n",
              "      fill: #174EA6;\n",
              "    }\n",
              "\n",
              "    [theme=dark] .colab-df-convert {\n",
              "      background-color: #3B4455;\n",
              "      fill: #D2E3FC;\n",
              "    }\n",
              "\n",
              "    [theme=dark] .colab-df-convert:hover {\n",
              "      background-color: #434B5C;\n",
              "      box-shadow: 0px 1px 3px 1px rgba(0, 0, 0, 0.15);\n",
              "      filter: drop-shadow(0px 1px 2px rgba(0, 0, 0, 0.3));\n",
              "      fill: #FFFFFF;\n",
              "    }\n",
              "  </style>\n",
              "\n",
              "      <script>\n",
              "        const buttonEl =\n",
              "          document.querySelector('#df-be3d0193-959d-4f93-ae10-af8f7037bf11 button.colab-df-convert');\n",
              "        buttonEl.style.display =\n",
              "          google.colab.kernel.accessAllowed ? 'block' : 'none';\n",
              "\n",
              "        async function convertToInteractive(key) {\n",
              "          const element = document.querySelector('#df-be3d0193-959d-4f93-ae10-af8f7037bf11');\n",
              "          const dataTable =\n",
              "            await google.colab.kernel.invokeFunction('convertToInteractive',\n",
              "                                                     [key], {});\n",
              "          if (!dataTable) return;\n",
              "\n",
              "          const docLinkHtml = 'Like what you see? Visit the ' +\n",
              "            '<a target=\"_blank\" href=https://colab.research.google.com/notebooks/data_table.ipynb>data table notebook</a>'\n",
              "            + ' to learn more about interactive tables.';\n",
              "          element.innerHTML = '';\n",
              "          dataTable['output_type'] = 'display_data';\n",
              "          await google.colab.output.renderOutput(dataTable, element);\n",
              "          const docLink = document.createElement('div');\n",
              "          docLink.innerHTML = docLinkHtml;\n",
              "          element.appendChild(docLink);\n",
              "        }\n",
              "      </script>\n",
              "    </div>\n",
              "  </div>\n",
              "  "
            ]
          },
          "metadata": {},
          "execution_count": 752
        }
      ]
    },
    {
      "cell_type": "markdown",
      "source": [
        "# Feature Shape Control"
      ],
      "metadata": {
        "id": "P2wc3nr1GSJe"
      }
    },
    {
      "cell_type": "code",
      "execution_count": 753,
      "metadata": {
        "colab": {
          "base_uri": "https://localhost:8080/"
        },
        "id": "yr3YVGSQAL3L",
        "outputId": "1c4aec8d-1d6c-4b2f-e738-4b05c14493db"
      },
      "outputs": [
        {
          "output_type": "execute_result",
          "data": {
            "text/plain": [
              "((767,), (767, 8))"
            ]
          },
          "metadata": {},
          "execution_count": 753
        }
      ],
      "source": [
        "y1.shape,X.shape"
      ]
    },
    {
      "cell_type": "code",
      "source": [
        "y2.shape,X.shape"
      ],
      "metadata": {
        "colab": {
          "base_uri": "https://localhost:8080/"
        },
        "id": "26cQWWao9JZh",
        "outputId": "17e67024-255c-48b6-807f-916540c8d410"
      },
      "execution_count": 754,
      "outputs": [
        {
          "output_type": "execute_result",
          "data": {
            "text/plain": [
              "((767,), (767, 8))"
            ]
          },
          "metadata": {},
          "execution_count": 754
        }
      ]
    },
    {
      "cell_type": "code",
      "source": [
        "y3.shape,X.shape"
      ],
      "metadata": {
        "colab": {
          "base_uri": "https://localhost:8080/"
        },
        "id": "AdCLOWthMskp",
        "outputId": "eafa7b1b-d7b7-4c50-a97c-ef4030534cda"
      },
      "execution_count": 755,
      "outputs": [
        {
          "output_type": "execute_result",
          "data": {
            "text/plain": [
              "((767,), (767, 8))"
            ]
          },
          "metadata": {},
          "execution_count": 755
        }
      ]
    },
    {
      "cell_type": "markdown",
      "source": [
        "#Feature visualization "
      ],
      "metadata": {
        "id": "GwZIVhXEIgDE"
      }
    },
    {
      "cell_type": "markdown",
      "source": [
        "First 5 lines for feature 'Stress' and 'max diameter' "
      ],
      "metadata": {
        "id": "LJ-VE8hAI7hh"
      }
    },
    {
      "cell_type": "code",
      "execution_count": 756,
      "metadata": {
        "colab": {
          "base_uri": "https://localhost:8080/",
          "height": 285
        },
        "id": "W9mahnwYVYc6",
        "outputId": "89b606ea-22a2-41ed-abe0-b9672b1581a5"
      },
      "outputs": [
        {
          "output_type": "execute_result",
          "data": {
            "text/plain": [
              "   Su (kg/m3)  Cimento (kg/m3)  Ucucu kul (kg/m3)  Mikrosilika (kg/m3)  \\\n",
              "0       450.0              0.0                0.0               1150.0   \n",
              "1       450.0              0.0                0.0               1150.0   \n",
              "2       450.0              0.0                0.0               1150.0   \n",
              "3       450.0              0.0                0.0               1150.0   \n",
              "4       450.0              0.0                0.0               1150.0   \n",
              "\n",
              "   Kalin agrega (kg/m3)  Ince agrega (kg/m3)  Su azaltici (kg/m3)  \\\n",
              "0                 670.0                  207                  0.0   \n",
              "1                 670.0                  207                  0.0   \n",
              "2                 670.0                  207                  0.0   \n",
              "3                 670.0                  207                  0.0   \n",
              "4                 670.0                  207                  0.0   \n",
              "\n",
              "   Cekme dayanimi (MPa)  \n",
              "0                  4.03  \n",
              "1                  4.17  \n",
              "2                  4.35  \n",
              "3                  4.52  \n",
              "4                  4.74  "
            ],
            "text/html": [
              "\n",
              "  <div id=\"df-0ab48447-6bff-4cee-bcc7-8bf26f6c8e59\">\n",
              "    <div class=\"colab-df-container\">\n",
              "      <div>\n",
              "<style scoped>\n",
              "    .dataframe tbody tr th:only-of-type {\n",
              "        vertical-align: middle;\n",
              "    }\n",
              "\n",
              "    .dataframe tbody tr th {\n",
              "        vertical-align: top;\n",
              "    }\n",
              "\n",
              "    .dataframe thead th {\n",
              "        text-align: right;\n",
              "    }\n",
              "</style>\n",
              "<table border=\"1\" class=\"dataframe\">\n",
              "  <thead>\n",
              "    <tr style=\"text-align: right;\">\n",
              "      <th></th>\n",
              "      <th>Su (kg/m3)</th>\n",
              "      <th>Cimento (kg/m3)</th>\n",
              "      <th>Ucucu kul (kg/m3)</th>\n",
              "      <th>Mikrosilika (kg/m3)</th>\n",
              "      <th>Kalin agrega (kg/m3)</th>\n",
              "      <th>Ince agrega (kg/m3)</th>\n",
              "      <th>Su azaltici (kg/m3)</th>\n",
              "      <th>Cekme dayanimi (MPa)</th>\n",
              "    </tr>\n",
              "  </thead>\n",
              "  <tbody>\n",
              "    <tr>\n",
              "      <th>0</th>\n",
              "      <td>450.0</td>\n",
              "      <td>0.0</td>\n",
              "      <td>0.0</td>\n",
              "      <td>1150.0</td>\n",
              "      <td>670.0</td>\n",
              "      <td>207</td>\n",
              "      <td>0.0</td>\n",
              "      <td>4.03</td>\n",
              "    </tr>\n",
              "    <tr>\n",
              "      <th>1</th>\n",
              "      <td>450.0</td>\n",
              "      <td>0.0</td>\n",
              "      <td>0.0</td>\n",
              "      <td>1150.0</td>\n",
              "      <td>670.0</td>\n",
              "      <td>207</td>\n",
              "      <td>0.0</td>\n",
              "      <td>4.17</td>\n",
              "    </tr>\n",
              "    <tr>\n",
              "      <th>2</th>\n",
              "      <td>450.0</td>\n",
              "      <td>0.0</td>\n",
              "      <td>0.0</td>\n",
              "      <td>1150.0</td>\n",
              "      <td>670.0</td>\n",
              "      <td>207</td>\n",
              "      <td>0.0</td>\n",
              "      <td>4.35</td>\n",
              "    </tr>\n",
              "    <tr>\n",
              "      <th>3</th>\n",
              "      <td>450.0</td>\n",
              "      <td>0.0</td>\n",
              "      <td>0.0</td>\n",
              "      <td>1150.0</td>\n",
              "      <td>670.0</td>\n",
              "      <td>207</td>\n",
              "      <td>0.0</td>\n",
              "      <td>4.52</td>\n",
              "    </tr>\n",
              "    <tr>\n",
              "      <th>4</th>\n",
              "      <td>450.0</td>\n",
              "      <td>0.0</td>\n",
              "      <td>0.0</td>\n",
              "      <td>1150.0</td>\n",
              "      <td>670.0</td>\n",
              "      <td>207</td>\n",
              "      <td>0.0</td>\n",
              "      <td>4.74</td>\n",
              "    </tr>\n",
              "  </tbody>\n",
              "</table>\n",
              "</div>\n",
              "      <button class=\"colab-df-convert\" onclick=\"convertToInteractive('df-0ab48447-6bff-4cee-bcc7-8bf26f6c8e59')\"\n",
              "              title=\"Convert this dataframe to an interactive table.\"\n",
              "              style=\"display:none;\">\n",
              "        \n",
              "  <svg xmlns=\"http://www.w3.org/2000/svg\" height=\"24px\"viewBox=\"0 0 24 24\"\n",
              "       width=\"24px\">\n",
              "    <path d=\"M0 0h24v24H0V0z\" fill=\"none\"/>\n",
              "    <path d=\"M18.56 5.44l.94 2.06.94-2.06 2.06-.94-2.06-.94-.94-2.06-.94 2.06-2.06.94zm-11 1L8.5 8.5l.94-2.06 2.06-.94-2.06-.94L8.5 2.5l-.94 2.06-2.06.94zm10 10l.94 2.06.94-2.06 2.06-.94-2.06-.94-.94-2.06-.94 2.06-2.06.94z\"/><path d=\"M17.41 7.96l-1.37-1.37c-.4-.4-.92-.59-1.43-.59-.52 0-1.04.2-1.43.59L10.3 9.45l-7.72 7.72c-.78.78-.78 2.05 0 2.83L4 21.41c.39.39.9.59 1.41.59.51 0 1.02-.2 1.41-.59l7.78-7.78 2.81-2.81c.8-.78.8-2.07 0-2.86zM5.41 20L4 18.59l7.72-7.72 1.47 1.35L5.41 20z\"/>\n",
              "  </svg>\n",
              "      </button>\n",
              "      \n",
              "  <style>\n",
              "    .colab-df-container {\n",
              "      display:flex;\n",
              "      flex-wrap:wrap;\n",
              "      gap: 12px;\n",
              "    }\n",
              "\n",
              "    .colab-df-convert {\n",
              "      background-color: #E8F0FE;\n",
              "      border: none;\n",
              "      border-radius: 50%;\n",
              "      cursor: pointer;\n",
              "      display: none;\n",
              "      fill: #1967D2;\n",
              "      height: 32px;\n",
              "      padding: 0 0 0 0;\n",
              "      width: 32px;\n",
              "    }\n",
              "\n",
              "    .colab-df-convert:hover {\n",
              "      background-color: #E2EBFA;\n",
              "      box-shadow: 0px 1px 2px rgba(60, 64, 67, 0.3), 0px 1px 3px 1px rgba(60, 64, 67, 0.15);\n",
              "      fill: #174EA6;\n",
              "    }\n",
              "\n",
              "    [theme=dark] .colab-df-convert {\n",
              "      background-color: #3B4455;\n",
              "      fill: #D2E3FC;\n",
              "    }\n",
              "\n",
              "    [theme=dark] .colab-df-convert:hover {\n",
              "      background-color: #434B5C;\n",
              "      box-shadow: 0px 1px 3px 1px rgba(0, 0, 0, 0.15);\n",
              "      filter: drop-shadow(0px 1px 2px rgba(0, 0, 0, 0.3));\n",
              "      fill: #FFFFFF;\n",
              "    }\n",
              "  </style>\n",
              "\n",
              "      <script>\n",
              "        const buttonEl =\n",
              "          document.querySelector('#df-0ab48447-6bff-4cee-bcc7-8bf26f6c8e59 button.colab-df-convert');\n",
              "        buttonEl.style.display =\n",
              "          google.colab.kernel.accessAllowed ? 'block' : 'none';\n",
              "\n",
              "        async function convertToInteractive(key) {\n",
              "          const element = document.querySelector('#df-0ab48447-6bff-4cee-bcc7-8bf26f6c8e59');\n",
              "          const dataTable =\n",
              "            await google.colab.kernel.invokeFunction('convertToInteractive',\n",
              "                                                     [key], {});\n",
              "          if (!dataTable) return;\n",
              "\n",
              "          const docLinkHtml = 'Like what you see? Visit the ' +\n",
              "            '<a target=\"_blank\" href=https://colab.research.google.com/notebooks/data_table.ipynb>data table notebook</a>'\n",
              "            + ' to learn more about interactive tables.';\n",
              "          element.innerHTML = '';\n",
              "          dataTable['output_type'] = 'display_data';\n",
              "          await google.colab.output.renderOutput(dataTable, element);\n",
              "          const docLink = document.createElement('div');\n",
              "          docLink.innerHTML = docLinkHtml;\n",
              "          element.appendChild(docLink);\n",
              "        }\n",
              "      </script>\n",
              "    </div>\n",
              "  </div>\n",
              "  "
            ]
          },
          "metadata": {},
          "execution_count": 756
        }
      ],
      "source": [
        "X.head()"
      ]
    },
    {
      "cell_type": "markdown",
      "metadata": {
        "id": "US0BCNKwaVXM"
      },
      "source": [
        "#Split"
      ]
    },
    {
      "cell_type": "markdown",
      "source": [
        "Train Test Split for 'Stress'"
      ],
      "metadata": {
        "id": "Dya0X_N4GbU0"
      }
    },
    {
      "cell_type": "code",
      "execution_count": 757,
      "metadata": {
        "id": "G4VmMxqHvt-1"
      },
      "outputs": [],
      "source": [
        "from sklearn.model_selection import train_test_split\n",
        "X_train, X_test, y1_train, y1_test = train_test_split(X, y1, test_size=0.2, random_state=42)\n",
        "X_train, X_test, y2_train, y2_test = train_test_split(X, y2, test_size=0.2, random_state=42)\n",
        "X_train, X_test, y3_train, y3_test = train_test_split(X, y3, test_size=0.2, random_state=42)"
      ]
    },
    {
      "cell_type": "markdown",
      "metadata": {
        "id": "avX1V-p_nztR"
      },
      "source": [
        "#Normalization Scaler"
      ]
    },
    {
      "cell_type": "code",
      "execution_count": 758,
      "metadata": {
        "id": "Z7caRYtjk7Av"
      },
      "outputs": [],
      "source": [
        "from sklearn.preprocessing import StandardScaler\n",
        "sc = StandardScaler()\n",
        "X_train = sc.fit_transform(X_train)\n",
        "X_test = sc.transform(X_test)"
      ]
    },
    {
      "cell_type": "code",
      "source": [
        "X_train.shape"
      ],
      "metadata": {
        "colab": {
          "base_uri": "https://localhost:8080/"
        },
        "id": "pwRwaMgwGea1",
        "outputId": "f962f876-0d12-477f-c89e-9ff8985c27ba"
      },
      "execution_count": 759,
      "outputs": [
        {
          "output_type": "execute_result",
          "data": {
            "text/plain": [
              "(613, 8)"
            ]
          },
          "metadata": {},
          "execution_count": 759
        }
      ]
    },
    {
      "cell_type": "markdown",
      "source": [
        "\n",
        "# MultiOutput Regressor\n",
        "\n"
      ],
      "metadata": {
        "id": "5CIhPw4O-EIM"
      }
    },
    {
      "cell_type": "code",
      "source": [
        "from sklearn.multioutput import MultiOutputRegressor\n",
        "from sklearn.ensemble import RandomForestRegressor\n",
        "from sklearn.linear_model import LinearRegression as lr"
      ],
      "metadata": {
        "id": "ez6CDpu_-a6I"
      },
      "execution_count": 760,
      "outputs": []
    },
    {
      "cell_type": "code",
      "source": [
        "from sklearn.ensemble import GradientBoostingRegressor\n",
        "mor = GradientBoostingRegressor(n_estimators=100, max_depth=3, learning_rate=0.1)"
      ],
      "metadata": {
        "id": "vS_KM-QcYFDK"
      },
      "execution_count": 761,
      "outputs": []
    },
    {
      "cell_type": "code",
      "source": [
        "#rf = RandomForestRegressor(n_estimators = 400, random_state =0)\n",
        "#mor = MultiOutputRegressor(rf)"
      ],
      "metadata": {
        "id": "9hJPJ44wZje6"
      },
      "execution_count": 762,
      "outputs": []
    },
    {
      "cell_type": "code",
      "source": [
        "from sklearn.ensemble import GradientBoostingRegressor\n",
        "\n",
        "params = {'n_estimators': 500,\n",
        "          'max_depth': 5,\n",
        "          'min_samples_split': 6,\n",
        "          'learning_rate': 0.005,\n",
        "          'loss': 'squared_error'}\n",
        "\n",
        "# Modeli oluşturma\n",
        "gb_model = GradientBoostingRegressor(**params)\n",
        "\n",
        "\n",
        "\n",
        "# Modeli eğitme\n",
        "\n",
        "mor = MultiOutputRegressor(gb_model)\n",
        "mor.fit(X_train, np.column_stack((y1_train, y2_train,y3_train)))\n"
      ],
      "metadata": {
        "colab": {
          "base_uri": "https://localhost:8080/",
          "height": 117
        },
        "id": "WK5RkbFfb6dY",
        "outputId": "449e992a-54dc-4b91-d1a0-30c3781c3f84"
      },
      "execution_count": 763,
      "outputs": [
        {
          "output_type": "execute_result",
          "data": {
            "text/plain": [
              "MultiOutputRegressor(estimator=GradientBoostingRegressor(learning_rate=0.005,\n",
              "                                                         max_depth=5,\n",
              "                                                         min_samples_split=6,\n",
              "                                                         n_estimators=500))"
            ],
            "text/html": [
              "<style>#sk-container-id-25 {color: black;background-color: white;}#sk-container-id-25 pre{padding: 0;}#sk-container-id-25 div.sk-toggleable {background-color: white;}#sk-container-id-25 label.sk-toggleable__label {cursor: pointer;display: block;width: 100%;margin-bottom: 0;padding: 0.3em;box-sizing: border-box;text-align: center;}#sk-container-id-25 label.sk-toggleable__label-arrow:before {content: \"▸\";float: left;margin-right: 0.25em;color: #696969;}#sk-container-id-25 label.sk-toggleable__label-arrow:hover:before {color: black;}#sk-container-id-25 div.sk-estimator:hover label.sk-toggleable__label-arrow:before {color: black;}#sk-container-id-25 div.sk-toggleable__content {max-height: 0;max-width: 0;overflow: hidden;text-align: left;background-color: #f0f8ff;}#sk-container-id-25 div.sk-toggleable__content pre {margin: 0.2em;color: black;border-radius: 0.25em;background-color: #f0f8ff;}#sk-container-id-25 input.sk-toggleable__control:checked~div.sk-toggleable__content {max-height: 200px;max-width: 100%;overflow: auto;}#sk-container-id-25 input.sk-toggleable__control:checked~label.sk-toggleable__label-arrow:before {content: \"▾\";}#sk-container-id-25 div.sk-estimator input.sk-toggleable__control:checked~label.sk-toggleable__label {background-color: #d4ebff;}#sk-container-id-25 div.sk-label input.sk-toggleable__control:checked~label.sk-toggleable__label {background-color: #d4ebff;}#sk-container-id-25 input.sk-hidden--visually {border: 0;clip: rect(1px 1px 1px 1px);clip: rect(1px, 1px, 1px, 1px);height: 1px;margin: -1px;overflow: hidden;padding: 0;position: absolute;width: 1px;}#sk-container-id-25 div.sk-estimator {font-family: monospace;background-color: #f0f8ff;border: 1px dotted black;border-radius: 0.25em;box-sizing: border-box;margin-bottom: 0.5em;}#sk-container-id-25 div.sk-estimator:hover {background-color: #d4ebff;}#sk-container-id-25 div.sk-parallel-item::after {content: \"\";width: 100%;border-bottom: 1px solid gray;flex-grow: 1;}#sk-container-id-25 div.sk-label:hover label.sk-toggleable__label {background-color: #d4ebff;}#sk-container-id-25 div.sk-serial::before {content: \"\";position: absolute;border-left: 1px solid gray;box-sizing: border-box;top: 0;bottom: 0;left: 50%;z-index: 0;}#sk-container-id-25 div.sk-serial {display: flex;flex-direction: column;align-items: center;background-color: white;padding-right: 0.2em;padding-left: 0.2em;position: relative;}#sk-container-id-25 div.sk-item {position: relative;z-index: 1;}#sk-container-id-25 div.sk-parallel {display: flex;align-items: stretch;justify-content: center;background-color: white;position: relative;}#sk-container-id-25 div.sk-item::before, #sk-container-id-25 div.sk-parallel-item::before {content: \"\";position: absolute;border-left: 1px solid gray;box-sizing: border-box;top: 0;bottom: 0;left: 50%;z-index: -1;}#sk-container-id-25 div.sk-parallel-item {display: flex;flex-direction: column;z-index: 1;position: relative;background-color: white;}#sk-container-id-25 div.sk-parallel-item:first-child::after {align-self: flex-end;width: 50%;}#sk-container-id-25 div.sk-parallel-item:last-child::after {align-self: flex-start;width: 50%;}#sk-container-id-25 div.sk-parallel-item:only-child::after {width: 0;}#sk-container-id-25 div.sk-dashed-wrapped {border: 1px dashed gray;margin: 0 0.4em 0.5em 0.4em;box-sizing: border-box;padding-bottom: 0.4em;background-color: white;}#sk-container-id-25 div.sk-label label {font-family: monospace;font-weight: bold;display: inline-block;line-height: 1.2em;}#sk-container-id-25 div.sk-label-container {text-align: center;}#sk-container-id-25 div.sk-container {/* jupyter's `normalize.less` sets `[hidden] { display: none; }` but bootstrap.min.css set `[hidden] { display: none !important; }` so we also need the `!important` here to be able to override the default hidden behavior on the sphinx rendered scikit-learn.org. See: https://github.com/scikit-learn/scikit-learn/issues/21755 */display: inline-block !important;position: relative;}#sk-container-id-25 div.sk-text-repr-fallback {display: none;}</style><div id=\"sk-container-id-25\" class=\"sk-top-container\"><div class=\"sk-text-repr-fallback\"><pre>MultiOutputRegressor(estimator=GradientBoostingRegressor(learning_rate=0.005,\n",
              "                                                         max_depth=5,\n",
              "                                                         min_samples_split=6,\n",
              "                                                         n_estimators=500))</pre><b>In a Jupyter environment, please rerun this cell to show the HTML representation or trust the notebook. <br />On GitHub, the HTML representation is unable to render, please try loading this page with nbviewer.org.</b></div><div class=\"sk-container\" hidden><div class=\"sk-item sk-dashed-wrapped\"><div class=\"sk-label-container\"><div class=\"sk-label sk-toggleable\"><input class=\"sk-toggleable__control sk-hidden--visually\" id=\"sk-estimator-id-73\" type=\"checkbox\" ><label for=\"sk-estimator-id-73\" class=\"sk-toggleable__label sk-toggleable__label-arrow\">MultiOutputRegressor</label><div class=\"sk-toggleable__content\"><pre>MultiOutputRegressor(estimator=GradientBoostingRegressor(learning_rate=0.005,\n",
              "                                                         max_depth=5,\n",
              "                                                         min_samples_split=6,\n",
              "                                                         n_estimators=500))</pre></div></div></div><div class=\"sk-parallel\"><div class=\"sk-parallel-item\"><div class=\"sk-item\"><div class=\"sk-label-container\"><div class=\"sk-label sk-toggleable\"><input class=\"sk-toggleable__control sk-hidden--visually\" id=\"sk-estimator-id-74\" type=\"checkbox\" ><label for=\"sk-estimator-id-74\" class=\"sk-toggleable__label sk-toggleable__label-arrow\">estimator: GradientBoostingRegressor</label><div class=\"sk-toggleable__content\"><pre>GradientBoostingRegressor(learning_rate=0.005, max_depth=5, min_samples_split=6,\n",
              "                          n_estimators=500)</pre></div></div></div><div class=\"sk-serial\"><div class=\"sk-item\"><div class=\"sk-estimator sk-toggleable\"><input class=\"sk-toggleable__control sk-hidden--visually\" id=\"sk-estimator-id-75\" type=\"checkbox\" ><label for=\"sk-estimator-id-75\" class=\"sk-toggleable__label sk-toggleable__label-arrow\">GradientBoostingRegressor</label><div class=\"sk-toggleable__content\"><pre>GradientBoostingRegressor(learning_rate=0.005, max_depth=5, min_samples_split=6,\n",
              "                          n_estimators=500)</pre></div></div></div></div></div></div></div></div></div></div>"
            ]
          },
          "metadata": {},
          "execution_count": 763
        }
      ]
    },
    {
      "cell_type": "markdown",
      "source": [
        "##PREDICTIVING TO TARGET FEATURES"
      ],
      "metadata": {
        "id": "X68yMDH90QNR"
      }
    },
    {
      "cell_type": "code",
      "source": [
        "y_pred = mor.predict(X_test)"
      ],
      "metadata": {
        "id": "vDirtH8wPobM"
      },
      "execution_count": 764,
      "outputs": []
    },
    {
      "cell_type": "code",
      "source": [
        "y1_pred, y2_pred,y3_pred = y_pred[:, 0], y_pred[:, 1],y_pred[:,2]"
      ],
      "metadata": {
        "id": "Yi8VPrRTPxU3"
      },
      "execution_count": 765,
      "outputs": []
    },
    {
      "cell_type": "code",
      "source": [
        "y1_test.array,y1_pred"
      ],
      "metadata": {
        "colab": {
          "base_uri": "https://localhost:8080/"
        },
        "id": "JtDeJfHv87dQ",
        "outputId": "43cfe933-e27a-44f1-c5cd-65b2b63dd4a8"
      },
      "execution_count": 766,
      "outputs": [
        {
          "output_type": "execute_result",
          "data": {
            "text/plain": [
              "(<PandasArray>\n",
              " [0.018, 0.015, 0.015, 0.018,  0.02, 0.015, 0.018, 0.015, 0.015, 0.015,\n",
              "  ...\n",
              "  0.015, 0.015, 0.015, 0.015, 0.015, 0.015, 0.015, 0.015, 0.016, 0.015]\n",
              " Length: 154, dtype: float64,\n",
              " array([0.01783261, 0.01499826, 0.01510439, 0.0178238 , 0.01957047,\n",
              "        0.01510439, 0.01783261, 0.01512659, 0.01509323, 0.01542039,\n",
              "        0.01509323, 0.01509136, 0.01517735, 0.01509737, 0.01529734,\n",
              "        0.01783261, 0.01724117, 0.01509421, 0.01509737, 0.01510068,\n",
              "        0.01509323, 0.01815535, 0.01786661, 0.01509154, 0.01511104,\n",
              "        0.01509055, 0.01783261, 0.0132564 , 0.0132564 , 0.01957047,\n",
              "        0.01509323, 0.01513864, 0.01542039, 0.01957047, 0.01516895,\n",
              "        0.01724117, 0.01509323, 0.01516895, 0.01510153, 0.01610355,\n",
              "        0.01786637, 0.01510408, 0.01724117, 0.01517735, 0.01510506,\n",
              "        0.01529734, 0.0159197 , 0.01743076, 0.01510408, 0.01509136,\n",
              "        0.01785215, 0.01509453, 0.01509136, 0.0132564 , 0.01509323,\n",
              "        0.01518192, 0.01509421, 0.01724117, 0.01518192, 0.01509136,\n",
              "        0.01511865, 0.01627526, 0.01509323, 0.01509973, 0.01509737,\n",
              "        0.01513864, 0.01509055, 0.01778135, 0.01511769, 0.01510408,\n",
              "        0.015103  , 0.0288372 , 0.01509055, 0.01509323, 0.01513231,\n",
              "        0.0288372 , 0.0288372 , 0.01570354, 0.01509323, 0.01511785,\n",
              "        0.01511853, 0.01511865, 0.0132564 , 0.01509323, 0.01510408,\n",
              "        0.01738604, 0.01957047, 0.01509323, 0.01516895, 0.0132564 ,\n",
              "        0.01534926, 0.01510195, 0.0178238 , 0.01509973, 0.01509055,\n",
              "        0.01509737, 0.01509873, 0.01509737, 0.01513864, 0.01593227,\n",
              "        0.01645308, 0.01778135, 0.01738604, 0.01509421, 0.01525759,\n",
              "        0.01957047, 0.01499826, 0.01509565, 0.01611084, 0.015103  ,\n",
              "        0.01509323, 0.01509323, 0.015103  , 0.01509136, 0.01724117,\n",
              "        0.01509323, 0.01509136, 0.0132564 , 0.01509136, 0.01511785,\n",
              "        0.01512659, 0.01509323, 0.01724117, 0.01517735, 0.01509323,\n",
              "        0.01512659, 0.01510408, 0.0288372 , 0.01511853, 0.01778135,\n",
              "        0.01957047, 0.01509055, 0.01593227, 0.01738604, 0.01509323,\n",
              "        0.01510408, 0.01509686, 0.01783261, 0.01724117, 0.01509323,\n",
              "        0.01744282, 0.01510408, 0.01534926, 0.01509323, 0.01509323,\n",
              "        0.01509323, 0.01509136, 0.015103  , 0.01509323, 0.01542039,\n",
              "        0.01514702, 0.01524486, 0.0159197 , 0.01534926]))"
            ]
          },
          "metadata": {},
          "execution_count": 766
        }
      ]
    },
    {
      "cell_type": "markdown",
      "source": [
        "#Mean Square Error (MSE)"
      ],
      "metadata": {
        "id": "ZTuJbL8qQ_0z"
      }
    },
    {
      "cell_type": "code",
      "source": [
        "from sklearn.metrics import mean_squared_error\n",
        "from sklearn.metrics import r2_score"
      ],
      "metadata": {
        "id": "zTNFtvwCRhqH"
      },
      "execution_count": 767,
      "outputs": []
    },
    {
      "cell_type": "code",
      "source": [
        "mse_y1 = mean_squared_error(y1_test,y1_pred)\n",
        "mse_y2 = mean_squared_error(y2_test, y2_pred)\n",
        "mse_y3 = mean_squared_error(y3_test, y3_pred)\n",
        "\n",
        "print(f\"Y1 için MSE: {mse_y1:.2f}\")\n",
        "print(f\"Y2 için MSE: {mse_y2:.2f}\")\n",
        "print(f\"Y3 için MSE: {mse_y3:.2f}\")"
      ],
      "metadata": {
        "colab": {
          "base_uri": "https://localhost:8080/"
        },
        "id": "JRMEIaEMQ_PT",
        "outputId": "c6356387-e667-4384-ddc8-41282aa858a1"
      },
      "execution_count": 768,
      "outputs": [
        {
          "output_type": "stream",
          "name": "stdout",
          "text": [
            "Y1 için MSE: 0.00\n",
            "Y2 için MSE: 0.00\n",
            "Y3 için MSE: 5.91\n"
          ]
        }
      ]
    },
    {
      "cell_type": "markdown",
      "source": [
        "## R-Square Error (R²)"
      ],
      "metadata": {
        "id": "0kqG8jr7RYyn"
      }
    },
    {
      "cell_type": "code",
      "source": [
        "r2_y1 = r2_score(y1_test, y1_pred)\n",
        "r2_y2 = r2_score(y2_test, y2_pred)\n",
        "r2_y3 = r2_score(y3_test, y3_pred)\n",
        "print(f\"Y1 için R-kare: {r2_y1:.2f}\")\n",
        "print(f\"Y2 için R-kare: {r2_y2:.2f}\")\n",
        "print(f\"Y3 için R-kare: {r2_y3:.2f}\")"
      ],
      "metadata": {
        "colab": {
          "base_uri": "https://localhost:8080/"
        },
        "id": "Jfrbyb7QRVZ5",
        "outputId": "cd0282a4-e991-4305-a9a2-975ffec1dad4"
      },
      "execution_count": 769,
      "outputs": [
        {
          "output_type": "stream",
          "name": "stdout",
          "text": [
            "Y1 için R-kare: 0.93\n",
            "Y2 için R-kare: 0.71\n",
            "Y3 için R-kare: 0.87\n"
          ]
        }
      ]
    },
    {
      "cell_type": "code",
      "source": [
        "y1_pred.shape"
      ],
      "metadata": {
        "colab": {
          "base_uri": "https://localhost:8080/"
        },
        "id": "C6diGQCECXxV",
        "outputId": "597af78e-8586-4c54-96c6-549bc584636a"
      },
      "execution_count": 770,
      "outputs": [
        {
          "output_type": "execute_result",
          "data": {
            "text/plain": [
              "(154,)"
            ]
          },
          "metadata": {},
          "execution_count": 770
        }
      ]
    },
    {
      "cell_type": "markdown",
      "source": [
        "#Improvement with Hyperparameter Tuning"
      ],
      "metadata": {
        "id": "WQSY9vjsheqZ"
      }
    },
    {
      "cell_type": "code",
      "source": [
        "from sklearn.ensemble import GradientBoostingRegressor\n",
        "\n",
        "# Gradient Boosting Regressor modeli için ayarlar\n",
        "params = {'n_estimators': 300,\n",
        "          'max_depth': 4,\n",
        "          'min_samples_split': 5,\n",
        "          'learning_rate': 0.01,\n",
        "          'loss': 'quantile'}\n",
        "\n",
        "# Modeli oluşturma\n",
        "gb_model1 = GradientBoostingRegressor(**params)\n",
        "\n",
        "# Modeli eğitme\n",
        "gb_model1.fit(X_train, y1_train)\n",
        "\n",
        "y1_pred = gb_model1.predict(X_test)\n",
        "\n",
        "# Model performansını değerlendire\n",
        "mse = mean_squared_error(y1_test, y1_pred)\n",
        "r2 = gb_model1.score(X_test, y1_test)\n",
        "\n",
        "print(\"MSE: {:.2f}\".format(mse))\n",
        "print(\"R^2 score: {:.2f}\".format(r2))"
      ],
      "metadata": {
        "colab": {
          "base_uri": "https://localhost:8080/"
        },
        "id": "DAPbWmBwg1Yj",
        "outputId": "fbf4ac9d-dba5-4b11-e4ba-888bfebcff86"
      },
      "execution_count": 783,
      "outputs": [
        {
          "output_type": "stream",
          "name": "stdout",
          "text": [
            "MSE: 0.00\n",
            "R^2 score: 0.03\n"
          ]
        }
      ]
    },
    {
      "cell_type": "code",
      "source": [
        "from sklearn.ensemble import GradientBoostingRegressor\n",
        "\n",
        "# Gradient Boosting Regressor modeli için ayarlar\n",
        "params = {'n_estimators': 710,\n",
        "          'max_depth': 4,\n",
        "          'min_samples_split': 8,\n",
        "          'learning_rate': 0.005,\n",
        "          'loss': 'squared_error'}\n",
        "\n",
        "# Modeli oluşturma\n",
        "gb_model2 = GradientBoostingRegressor(**params)\n",
        "\n",
        "# Modeli eğitme\n",
        "gb_model2.fit(X_train, y2_train)\n",
        "\n",
        "y2_pred = gb_model2.predict(X_test)\n",
        "\n",
        "# Model performansını değerlendirme\n",
        "mse = mean_squared_error(y2_test, y2_pred)\n",
        "r2 = gb_model2.score(X_test, y2_test)\n",
        "\n",
        "print(\"MSE: {:.2f}\".format(mse))\n",
        "print(\"R^2 score: {:.2f}\".format(r2))\n"
      ],
      "metadata": {
        "colab": {
          "base_uri": "https://localhost:8080/"
        },
        "id": "MQoocrSUErTM",
        "outputId": "3a5a7126-5a03-4db1-de5b-7abc7dab4be1"
      },
      "execution_count": 784,
      "outputs": [
        {
          "output_type": "stream",
          "name": "stdout",
          "text": [
            "MSE: 0.00\n",
            "R^2 score: 0.69\n"
          ]
        }
      ]
    },
    {
      "cell_type": "code",
      "source": [
        "from sklearn.ensemble import GradientBoostingRegressor\n",
        "\n",
        "# Gradient Boosting Regressor modeli için ayarlar\n",
        "params = {'n_estimators': 300,\n",
        "          'max_depth': 4,\n",
        "          'min_samples_split': 5,\n",
        "          'learning_rate': 0.01,\n",
        "          'loss': 'squared_error'}\n",
        "\n",
        "# Modeli oluşturma\n",
        "gb_model3 = GradientBoostingRegressor(**params)\n",
        "\n",
        "# Modeli eğitme\n",
        "gb_model3.fit(X_train, y3_train)\n",
        "\n",
        "y3_pred = gb_model3.predict(X_test)\n",
        "\n",
        "# Model performansını değerlendire\n",
        "mse = mean_squared_error(y3_test, y3_pred)\n",
        "r2 = gb_model3.score(X_test, y3_test)\n",
        "\n",
        "print(\"MSE: {:.2f}\".format(mse))\n",
        "print(\"R^2 score: {:.2f}\".format(r2))"
      ],
      "metadata": {
        "colab": {
          "base_uri": "https://localhost:8080/"
        },
        "id": "So_qG0ndcraB",
        "outputId": "0a785757-90e2-47eb-af5a-a815b3139555"
      },
      "execution_count": 785,
      "outputs": [
        {
          "output_type": "stream",
          "name": "stdout",
          "text": [
            "MSE: 6.72\n",
            "R^2 score: 0.85\n"
          ]
        }
      ]
    },
    {
      "cell_type": "markdown",
      "source": [
        "#An Example of Using the Model"
      ],
      "metadata": {
        "id": "m1CsL-JU9HjH"
      }
    },
    {
      "cell_type": "code",
      "source": [
        "oran=gb_model1.predict(np.array([[363.3,67.8,72.7,1143,659,155,7.56,3.4]]))"
      ],
      "metadata": {
        "id": "k896m3XB88nG"
      },
      "execution_count": 774,
      "outputs": []
    },
    {
      "cell_type": "code",
      "source": [
        "cap=gb_model2.predict(np.array([[363.3,67.8,72.7,1143,659,155,7.56,3.4]]))"
      ],
      "metadata": {
        "id": "5D5pgldi880C"
      },
      "execution_count": 775,
      "outputs": []
    },
    {
      "cell_type": "code",
      "source": [
        "uzunluk=gb_model3.predict(np.array([[363.3,67.8,72.7,1143,659,155,7.56,3.4]]))"
      ],
      "metadata": {
        "id": "_1iTXrXY9XaD"
      },
      "execution_count": 776,
      "outputs": []
    },
    {
      "cell_type": "code",
      "source": [
        "print(f\"Tahmin edilen değerler=\\nFiber capi (mm)={cap}\\nFiber uzunlugu (mm)={uzunluk}\\nFiber orani (%)={oran} \\n\\nGerçek değerler=\\n{dt.iloc[249,7:10]}\")"
      ],
      "metadata": {
        "colab": {
          "base_uri": "https://localhost:8080/"
        },
        "id": "81n31LgW9jgy",
        "outputId": "2872f952-c0d3-4e0a-b22e-75b973c73e85"
      },
      "execution_count": 777,
      "outputs": [
        {
          "output_type": "stream",
          "name": "stdout",
          "text": [
            "Tahmin edilen değerler=\n",
            "Fiber capi (mm)=[0.26228138]\n",
            "Fiber uzunlugu (mm)=[15.99086409]\n",
            "Fiber orani (%)=[0.018] \n",
            "\n",
            "Gerçek değerler=\n",
            "Fiber capi (mm)         0.015\n",
            "Fiber uzunlugu (mm)    12.000\n",
            "Fiber orani (%)         0.100\n",
            "Name: 249, dtype: float64\n"
          ]
        }
      ]
    },
    {
      "cell_type": "code",
      "source": [],
      "metadata": {
        "id": "Q6TYJKGhK_Yk"
      },
      "execution_count": null,
      "outputs": []
    },
    {
      "cell_type": "markdown",
      "source": [
        "##PREDICTIVING TO TARGET FEATURES"
      ],
      "metadata": {
        "id": "GjKm0E6VLETE"
      }
    },
    {
      "cell_type": "code",
      "source": [
        "y_pred = mor.predict(X_test)"
      ],
      "metadata": {
        "id": "xPsofN75LETF"
      },
      "execution_count": 786,
      "outputs": []
    },
    {
      "cell_type": "code",
      "source": [
        "y1_pred, y2_pred,y3_pred = y_pred[:, 0], y_pred[:, 1],y_pred[:,2]"
      ],
      "metadata": {
        "id": "aIx5_FuCLETF"
      },
      "execution_count": 787,
      "outputs": []
    },
    {
      "cell_type": "code",
      "source": [
        "try_values=mor.predict(np.array([[363.3,67.8,72.7,1143,659,155,7.56,3.4]]))"
      ],
      "metadata": {
        "id": "W6mCa-GvNDNu"
      },
      "execution_count": 788,
      "outputs": []
    },
    {
      "cell_type": "code",
      "source": [
        "cap,oran,uzunluk = try_values[:, 0], try_values[:, 1],try_values[:,2]"
      ],
      "metadata": {
        "id": "rI2pbHszgDv0"
      },
      "execution_count": 789,
      "outputs": []
    },
    {
      "cell_type": "code",
      "source": [
        "print(f\"Tahmin edilen değerler=\\nFiber capi (mm)={cap}\\nFiber uzunlugu (mm)={uzunluk}\\nFiber orani (%)={oran} \\n\\nGerçek değerler=\\n{dt.iloc[249,7:10]}\")"
      ],
      "metadata": {
        "colab": {
          "base_uri": "https://localhost:8080/"
        },
        "id": "SGp7hh0wNDVp",
        "outputId": "12496273-61c7-4776-ddf1-6e5b4ddc037f"
      },
      "execution_count": 790,
      "outputs": [
        {
          "output_type": "stream",
          "name": "stdout",
          "text": [
            "Tahmin edilen değerler=\n",
            "Fiber capi (mm)=[0.01516803]\n",
            "Fiber uzunlugu (mm)=[14.52056667]\n",
            "Fiber orani (%)=[0.27098624] \n",
            "\n",
            "Gerçek değerler=\n",
            "Fiber capi (mm)         0.015\n",
            "Fiber uzunlugu (mm)    12.000\n",
            "Fiber orani (%)         0.100\n",
            "Name: 249, dtype: float64\n"
          ]
        }
      ]
    }
  ]
}
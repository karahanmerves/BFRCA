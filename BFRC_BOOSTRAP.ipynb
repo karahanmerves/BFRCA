{
  "nbformat": 4,
  "nbformat_minor": 0,
  "metadata": {
    "colab": {
      "provenance": [],
      "authorship_tag": "ABX9TyNWributZ3UdQbL0J8RIUW8",
      "include_colab_link": true
    },
    "kernelspec": {
      "name": "python3",
      "display_name": "Python 3"
    },
    "language_info": {
      "name": "python"
    }
  },
  "cells": [
    {
      "cell_type": "markdown",
      "metadata": {
        "id": "view-in-github",
        "colab_type": "text"
      },
      "source": [
        "<a href=\"https://colab.research.google.com/github/karahanmerves/BFRCA/blob/main/BFRC_BOOSTRAP.ipynb\" target=\"_parent\"><img src=\"https://colab.research.google.com/assets/colab-badge.svg\" alt=\"Open In Colab\"/></a>"
      ]
    },
    {
      "cell_type": "markdown",
      "source": [
        "\n",
        "#\"Data mining approach for predicting fiber diameter, length, and ratio: A case study of BFRC (Basalt Fiber Reinforced Concrete)\"\n",
        "**WITH MULTIPLE REGRESSION**\n",
        "\n",
        "\n"
      ],
      "metadata": {
        "id": "TBXOBwa_ShEA"
      }
    },
    {
      "cell_type": "markdown",
      "metadata": {
        "id": "Li__JjmWsKHZ"
      },
      "source": [
        "#Import to Librarys\n"
      ]
    },
    {
      "cell_type": "code",
      "execution_count": 253,
      "metadata": {
        "id": "XFvrLQctsHy3"
      },
      "outputs": [],
      "source": [
        "import numpy as np\n",
        "import matplotlib.pyplot as plt\n",
        "import seaborn as sns\n",
        "import pandas as pd\n",
        "from sklearn import datasets\n",
        "from sklearn.tree import DecisionTreeRegressor\n",
        "from sklearn import tree\n",
        "#% matplotlib inline"
      ]
    },
    {
      "cell_type": "markdown",
      "source": [
        "#Download Data (format CSV)"
      ],
      "metadata": {
        "id": "_LNvdRZ5Jxq3"
      }
    },
    {
      "cell_type": "code",
      "execution_count": 254,
      "metadata": {
        "colab": {
          "base_uri": "https://localhost:8080/",
          "height": 267
        },
        "id": "iIKWUfbJtPTX",
        "outputId": "9f993fb9-db88-4e31-84d3-9f66b60ee627"
      },
      "outputs": [
        {
          "output_type": "execute_result",
          "data": {
            "text/plain": [
              "   Su (kg/m3)  Cimento (kg/m3)  Ucucu kul (kg/m3)  Mikrosilika (kg/m3)  \\\n",
              "0       450.0              0.0                0.0               1150.0   \n",
              "1       450.0              0.0                0.0               1150.0   \n",
              "2       450.0              0.0                0.0               1150.0   \n",
              "3       450.0              0.0                0.0               1150.0   \n",
              "4       450.0              0.0                0.0               1150.0   \n",
              "\n",
              "   Kalin agrega (kg/m3)  Ince agrega (kg/m3)  Su azaltici (kg/m3)  \\\n",
              "0                 670.0                  207                  0.0   \n",
              "1                 670.0                  207                  0.0   \n",
              "2                 670.0                  207                  0.0   \n",
              "3                 670.0                  207                  0.0   \n",
              "4                 670.0                  207                  0.0   \n",
              "\n",
              "   Fiber capi (mm)  Fiber uzunlugu (mm)  Fiber orani (%)  Cekme dayanimi (MPa)  \n",
              "0             0.02                   30             0.00                  4.03  \n",
              "1             0.02                   30             0.05                  4.17  \n",
              "2             0.02                   30             0.10                  4.35  \n",
              "3             0.02                   30             0.15                  4.52  \n",
              "4             0.02                   30             0.20                  4.74  "
            ],
            "text/html": [
              "\n",
              "  <div id=\"df-71d68c58-fdb2-494f-8d5d-55f92f34a981\">\n",
              "    <div class=\"colab-df-container\">\n",
              "      <div>\n",
              "<style scoped>\n",
              "    .dataframe tbody tr th:only-of-type {\n",
              "        vertical-align: middle;\n",
              "    }\n",
              "\n",
              "    .dataframe tbody tr th {\n",
              "        vertical-align: top;\n",
              "    }\n",
              "\n",
              "    .dataframe thead th {\n",
              "        text-align: right;\n",
              "    }\n",
              "</style>\n",
              "<table border=\"1\" class=\"dataframe\">\n",
              "  <thead>\n",
              "    <tr style=\"text-align: right;\">\n",
              "      <th></th>\n",
              "      <th>Su (kg/m3)</th>\n",
              "      <th>Cimento (kg/m3)</th>\n",
              "      <th>Ucucu kul (kg/m3)</th>\n",
              "      <th>Mikrosilika (kg/m3)</th>\n",
              "      <th>Kalin agrega (kg/m3)</th>\n",
              "      <th>Ince agrega (kg/m3)</th>\n",
              "      <th>Su azaltici (kg/m3)</th>\n",
              "      <th>Fiber capi (mm)</th>\n",
              "      <th>Fiber uzunlugu (mm)</th>\n",
              "      <th>Fiber orani (%)</th>\n",
              "      <th>Cekme dayanimi (MPa)</th>\n",
              "    </tr>\n",
              "  </thead>\n",
              "  <tbody>\n",
              "    <tr>\n",
              "      <th>0</th>\n",
              "      <td>450.0</td>\n",
              "      <td>0.0</td>\n",
              "      <td>0.0</td>\n",
              "      <td>1150.0</td>\n",
              "      <td>670.0</td>\n",
              "      <td>207</td>\n",
              "      <td>0.0</td>\n",
              "      <td>0.02</td>\n",
              "      <td>30</td>\n",
              "      <td>0.00</td>\n",
              "      <td>4.03</td>\n",
              "    </tr>\n",
              "    <tr>\n",
              "      <th>1</th>\n",
              "      <td>450.0</td>\n",
              "      <td>0.0</td>\n",
              "      <td>0.0</td>\n",
              "      <td>1150.0</td>\n",
              "      <td>670.0</td>\n",
              "      <td>207</td>\n",
              "      <td>0.0</td>\n",
              "      <td>0.02</td>\n",
              "      <td>30</td>\n",
              "      <td>0.05</td>\n",
              "      <td>4.17</td>\n",
              "    </tr>\n",
              "    <tr>\n",
              "      <th>2</th>\n",
              "      <td>450.0</td>\n",
              "      <td>0.0</td>\n",
              "      <td>0.0</td>\n",
              "      <td>1150.0</td>\n",
              "      <td>670.0</td>\n",
              "      <td>207</td>\n",
              "      <td>0.0</td>\n",
              "      <td>0.02</td>\n",
              "      <td>30</td>\n",
              "      <td>0.10</td>\n",
              "      <td>4.35</td>\n",
              "    </tr>\n",
              "    <tr>\n",
              "      <th>3</th>\n",
              "      <td>450.0</td>\n",
              "      <td>0.0</td>\n",
              "      <td>0.0</td>\n",
              "      <td>1150.0</td>\n",
              "      <td>670.0</td>\n",
              "      <td>207</td>\n",
              "      <td>0.0</td>\n",
              "      <td>0.02</td>\n",
              "      <td>30</td>\n",
              "      <td>0.15</td>\n",
              "      <td>4.52</td>\n",
              "    </tr>\n",
              "    <tr>\n",
              "      <th>4</th>\n",
              "      <td>450.0</td>\n",
              "      <td>0.0</td>\n",
              "      <td>0.0</td>\n",
              "      <td>1150.0</td>\n",
              "      <td>670.0</td>\n",
              "      <td>207</td>\n",
              "      <td>0.0</td>\n",
              "      <td>0.02</td>\n",
              "      <td>30</td>\n",
              "      <td>0.20</td>\n",
              "      <td>4.74</td>\n",
              "    </tr>\n",
              "  </tbody>\n",
              "</table>\n",
              "</div>\n",
              "      <button class=\"colab-df-convert\" onclick=\"convertToInteractive('df-71d68c58-fdb2-494f-8d5d-55f92f34a981')\"\n",
              "              title=\"Convert this dataframe to an interactive table.\"\n",
              "              style=\"display:none;\">\n",
              "        \n",
              "  <svg xmlns=\"http://www.w3.org/2000/svg\" height=\"24px\"viewBox=\"0 0 24 24\"\n",
              "       width=\"24px\">\n",
              "    <path d=\"M0 0h24v24H0V0z\" fill=\"none\"/>\n",
              "    <path d=\"M18.56 5.44l.94 2.06.94-2.06 2.06-.94-2.06-.94-.94-2.06-.94 2.06-2.06.94zm-11 1L8.5 8.5l.94-2.06 2.06-.94-2.06-.94L8.5 2.5l-.94 2.06-2.06.94zm10 10l.94 2.06.94-2.06 2.06-.94-2.06-.94-.94-2.06-.94 2.06-2.06.94z\"/><path d=\"M17.41 7.96l-1.37-1.37c-.4-.4-.92-.59-1.43-.59-.52 0-1.04.2-1.43.59L10.3 9.45l-7.72 7.72c-.78.78-.78 2.05 0 2.83L4 21.41c.39.39.9.59 1.41.59.51 0 1.02-.2 1.41-.59l7.78-7.78 2.81-2.81c.8-.78.8-2.07 0-2.86zM5.41 20L4 18.59l7.72-7.72 1.47 1.35L5.41 20z\"/>\n",
              "  </svg>\n",
              "      </button>\n",
              "      \n",
              "  <style>\n",
              "    .colab-df-container {\n",
              "      display:flex;\n",
              "      flex-wrap:wrap;\n",
              "      gap: 12px;\n",
              "    }\n",
              "\n",
              "    .colab-df-convert {\n",
              "      background-color: #E8F0FE;\n",
              "      border: none;\n",
              "      border-radius: 50%;\n",
              "      cursor: pointer;\n",
              "      display: none;\n",
              "      fill: #1967D2;\n",
              "      height: 32px;\n",
              "      padding: 0 0 0 0;\n",
              "      width: 32px;\n",
              "    }\n",
              "\n",
              "    .colab-df-convert:hover {\n",
              "      background-color: #E2EBFA;\n",
              "      box-shadow: 0px 1px 2px rgba(60, 64, 67, 0.3), 0px 1px 3px 1px rgba(60, 64, 67, 0.15);\n",
              "      fill: #174EA6;\n",
              "    }\n",
              "\n",
              "    [theme=dark] .colab-df-convert {\n",
              "      background-color: #3B4455;\n",
              "      fill: #D2E3FC;\n",
              "    }\n",
              "\n",
              "    [theme=dark] .colab-df-convert:hover {\n",
              "      background-color: #434B5C;\n",
              "      box-shadow: 0px 1px 3px 1px rgba(0, 0, 0, 0.15);\n",
              "      filter: drop-shadow(0px 1px 2px rgba(0, 0, 0, 0.3));\n",
              "      fill: #FFFFFF;\n",
              "    }\n",
              "  </style>\n",
              "\n",
              "      <script>\n",
              "        const buttonEl =\n",
              "          document.querySelector('#df-71d68c58-fdb2-494f-8d5d-55f92f34a981 button.colab-df-convert');\n",
              "        buttonEl.style.display =\n",
              "          google.colab.kernel.accessAllowed ? 'block' : 'none';\n",
              "\n",
              "        async function convertToInteractive(key) {\n",
              "          const element = document.querySelector('#df-71d68c58-fdb2-494f-8d5d-55f92f34a981');\n",
              "          const dataTable =\n",
              "            await google.colab.kernel.invokeFunction('convertToInteractive',\n",
              "                                                     [key], {});\n",
              "          if (!dataTable) return;\n",
              "\n",
              "          const docLinkHtml = 'Like what you see? Visit the ' +\n",
              "            '<a target=\"_blank\" href=https://colab.research.google.com/notebooks/data_table.ipynb>data table notebook</a>'\n",
              "            + ' to learn more about interactive tables.';\n",
              "          element.innerHTML = '';\n",
              "          dataTable['output_type'] = 'display_data';\n",
              "          await google.colab.output.renderOutput(dataTable, element);\n",
              "          const docLink = document.createElement('div');\n",
              "          docLink.innerHTML = docLinkHtml;\n",
              "          element.appendChild(docLink);\n",
              "        }\n",
              "      </script>\n",
              "    </div>\n",
              "  </div>\n",
              "  "
            ]
          },
          "metadata": {},
          "execution_count": 254
        }
      ],
      "source": [
        "dt = pd.read_csv('/content/bfrc.csv')\n",
        "dt.head()"
      ]
    },
    {
      "cell_type": "code",
      "source": [
        "dt.info()"
      ],
      "metadata": {
        "colab": {
          "base_uri": "https://localhost:8080/"
        },
        "id": "rDAzuFYs63P8",
        "outputId": "24a0d0a3-349c-4484-cdac-2653e8eaaa60"
      },
      "execution_count": 255,
      "outputs": [
        {
          "output_type": "stream",
          "name": "stdout",
          "text": [
            "<class 'pandas.core.frame.DataFrame'>\n",
            "RangeIndex: 267 entries, 0 to 266\n",
            "Data columns (total 11 columns):\n",
            " #   Column                Non-Null Count  Dtype  \n",
            "---  ------                --------------  -----  \n",
            " 0   Su (kg/m3)            267 non-null    float64\n",
            " 1   Cimento (kg/m3)       267 non-null    float64\n",
            " 2   Ucucu kul (kg/m3)     267 non-null    float64\n",
            " 3   Mikrosilika (kg/m3)   267 non-null    float64\n",
            " 4   Kalin agrega (kg/m3)  267 non-null    float64\n",
            " 5   Ince agrega (kg/m3)   267 non-null    int64  \n",
            " 6   Su azaltici (kg/m3)   267 non-null    float64\n",
            " 7   Fiber capi (mm)       267 non-null    float64\n",
            " 8   Fiber uzunlugu (mm)   267 non-null    int64  \n",
            " 9   Fiber orani (%)       267 non-null    float64\n",
            " 10  Cekme dayanimi (MPa)  267 non-null    float64\n",
            "dtypes: float64(9), int64(2)\n",
            "memory usage: 23.1 KB\n"
          ]
        }
      ]
    },
    {
      "cell_type": "markdown",
      "source": [
        "## Checking the Number of Null Values in the Dataset"
      ],
      "metadata": {
        "id": "utoHR-uj2Oma"
      }
    },
    {
      "cell_type": "code",
      "source": [
        "dt.isnull().sum()"
      ],
      "metadata": {
        "colab": {
          "base_uri": "https://localhost:8080/"
        },
        "id": "gphLjyB_2FuK",
        "outputId": "f45368bf-0e9a-4351-9efa-978bc028b490"
      },
      "execution_count": 256,
      "outputs": [
        {
          "output_type": "execute_result",
          "data": {
            "text/plain": [
              "Su (kg/m3)              0\n",
              "Cimento (kg/m3)         0\n",
              "Ucucu kul (kg/m3)       0\n",
              "Mikrosilika (kg/m3)     0\n",
              "Kalin agrega (kg/m3)    0\n",
              "Ince agrega (kg/m3)     0\n",
              "Su azaltici (kg/m3)     0\n",
              "Fiber capi (mm)         0\n",
              "Fiber uzunlugu (mm)     0\n",
              "Fiber orani (%)         0\n",
              "Cekme dayanimi (MPa)    0\n",
              "dtype: int64"
            ]
          },
          "metadata": {},
          "execution_count": 256
        }
      ]
    },
    {
      "cell_type": "code",
      "source": [
        "dt.describe()"
      ],
      "metadata": {
        "colab": {
          "base_uri": "https://localhost:8080/",
          "height": 379
        },
        "id": "yMcYBbm26cDi",
        "outputId": "1479595c-09be-45eb-e0e7-c3afacc528ae"
      },
      "execution_count": 257,
      "outputs": [
        {
          "output_type": "execute_result",
          "data": {
            "text/plain": [
              "       Su (kg/m3)  Cimento (kg/m3)  Ucucu kul (kg/m3)  Mikrosilika (kg/m3)  \\\n",
              "count  267.000000       267.000000         267.000000           267.000000   \n",
              "mean   402.544719        45.717453          16.429213          1079.504644   \n",
              "std     73.920000        56.470326          31.284398           161.986898   \n",
              "min    217.000000         0.000000           0.000000           512.000000   \n",
              "25%    353.500000         0.000000           0.000000           998.000000   \n",
              "50%    402.000000         0.000000           0.000000          1125.000000   \n",
              "75%    450.000000        86.000000          20.000000          1180.000000   \n",
              "max    613.330000       168.000000         126.000000          1540.000000   \n",
              "\n",
              "       Kalin agrega (kg/m3)  Ince agrega (kg/m3)  Su azaltici (kg/m3)  \\\n",
              "count            267.000000           267.000000           267.000000   \n",
              "mean             697.829438           177.606742             3.337865   \n",
              "std               88.452215            29.875916             2.242625   \n",
              "min              507.000000           125.000000             0.000000   \n",
              "25%              633.000000           160.000000             2.400000   \n",
              "50%              688.000000           179.000000             4.000000   \n",
              "75%              781.000000           188.000000             4.810000   \n",
              "max              875.000000           301.000000             8.360000   \n",
              "\n",
              "       Fiber capi (mm)  Fiber uzunlugu (mm)  Fiber orani (%)  \\\n",
              "count       267.000000           267.000000       267.000000   \n",
              "mean          0.015930            16.749064         0.126592   \n",
              "std           0.002699             6.376704         0.106337   \n",
              "min           0.013000             6.000000         0.000000   \n",
              "25%           0.015000            12.000000         0.050000   \n",
              "50%           0.015000            18.000000         0.100000   \n",
              "75%           0.015500            20.000000         0.200000   \n",
              "max           0.030000            30.000000         0.500000   \n",
              "\n",
              "       Cekme dayanimi (MPa)  \n",
              "count            267.000000  \n",
              "mean               4.348101  \n",
              "std                1.739823  \n",
              "min                2.200000  \n",
              "25%                3.182500  \n",
              "50%                3.724000  \n",
              "75%                4.885000  \n",
              "max                9.800000  "
            ],
            "text/html": [
              "\n",
              "  <div id=\"df-71153925-0d4e-4e08-8129-652cfa04819a\">\n",
              "    <div class=\"colab-df-container\">\n",
              "      <div>\n",
              "<style scoped>\n",
              "    .dataframe tbody tr th:only-of-type {\n",
              "        vertical-align: middle;\n",
              "    }\n",
              "\n",
              "    .dataframe tbody tr th {\n",
              "        vertical-align: top;\n",
              "    }\n",
              "\n",
              "    .dataframe thead th {\n",
              "        text-align: right;\n",
              "    }\n",
              "</style>\n",
              "<table border=\"1\" class=\"dataframe\">\n",
              "  <thead>\n",
              "    <tr style=\"text-align: right;\">\n",
              "      <th></th>\n",
              "      <th>Su (kg/m3)</th>\n",
              "      <th>Cimento (kg/m3)</th>\n",
              "      <th>Ucucu kul (kg/m3)</th>\n",
              "      <th>Mikrosilika (kg/m3)</th>\n",
              "      <th>Kalin agrega (kg/m3)</th>\n",
              "      <th>Ince agrega (kg/m3)</th>\n",
              "      <th>Su azaltici (kg/m3)</th>\n",
              "      <th>Fiber capi (mm)</th>\n",
              "      <th>Fiber uzunlugu (mm)</th>\n",
              "      <th>Fiber orani (%)</th>\n",
              "      <th>Cekme dayanimi (MPa)</th>\n",
              "    </tr>\n",
              "  </thead>\n",
              "  <tbody>\n",
              "    <tr>\n",
              "      <th>count</th>\n",
              "      <td>267.000000</td>\n",
              "      <td>267.000000</td>\n",
              "      <td>267.000000</td>\n",
              "      <td>267.000000</td>\n",
              "      <td>267.000000</td>\n",
              "      <td>267.000000</td>\n",
              "      <td>267.000000</td>\n",
              "      <td>267.000000</td>\n",
              "      <td>267.000000</td>\n",
              "      <td>267.000000</td>\n",
              "      <td>267.000000</td>\n",
              "    </tr>\n",
              "    <tr>\n",
              "      <th>mean</th>\n",
              "      <td>402.544719</td>\n",
              "      <td>45.717453</td>\n",
              "      <td>16.429213</td>\n",
              "      <td>1079.504644</td>\n",
              "      <td>697.829438</td>\n",
              "      <td>177.606742</td>\n",
              "      <td>3.337865</td>\n",
              "      <td>0.015930</td>\n",
              "      <td>16.749064</td>\n",
              "      <td>0.126592</td>\n",
              "      <td>4.348101</td>\n",
              "    </tr>\n",
              "    <tr>\n",
              "      <th>std</th>\n",
              "      <td>73.920000</td>\n",
              "      <td>56.470326</td>\n",
              "      <td>31.284398</td>\n",
              "      <td>161.986898</td>\n",
              "      <td>88.452215</td>\n",
              "      <td>29.875916</td>\n",
              "      <td>2.242625</td>\n",
              "      <td>0.002699</td>\n",
              "      <td>6.376704</td>\n",
              "      <td>0.106337</td>\n",
              "      <td>1.739823</td>\n",
              "    </tr>\n",
              "    <tr>\n",
              "      <th>min</th>\n",
              "      <td>217.000000</td>\n",
              "      <td>0.000000</td>\n",
              "      <td>0.000000</td>\n",
              "      <td>512.000000</td>\n",
              "      <td>507.000000</td>\n",
              "      <td>125.000000</td>\n",
              "      <td>0.000000</td>\n",
              "      <td>0.013000</td>\n",
              "      <td>6.000000</td>\n",
              "      <td>0.000000</td>\n",
              "      <td>2.200000</td>\n",
              "    </tr>\n",
              "    <tr>\n",
              "      <th>25%</th>\n",
              "      <td>353.500000</td>\n",
              "      <td>0.000000</td>\n",
              "      <td>0.000000</td>\n",
              "      <td>998.000000</td>\n",
              "      <td>633.000000</td>\n",
              "      <td>160.000000</td>\n",
              "      <td>2.400000</td>\n",
              "      <td>0.015000</td>\n",
              "      <td>12.000000</td>\n",
              "      <td>0.050000</td>\n",
              "      <td>3.182500</td>\n",
              "    </tr>\n",
              "    <tr>\n",
              "      <th>50%</th>\n",
              "      <td>402.000000</td>\n",
              "      <td>0.000000</td>\n",
              "      <td>0.000000</td>\n",
              "      <td>1125.000000</td>\n",
              "      <td>688.000000</td>\n",
              "      <td>179.000000</td>\n",
              "      <td>4.000000</td>\n",
              "      <td>0.015000</td>\n",
              "      <td>18.000000</td>\n",
              "      <td>0.100000</td>\n",
              "      <td>3.724000</td>\n",
              "    </tr>\n",
              "    <tr>\n",
              "      <th>75%</th>\n",
              "      <td>450.000000</td>\n",
              "      <td>86.000000</td>\n",
              "      <td>20.000000</td>\n",
              "      <td>1180.000000</td>\n",
              "      <td>781.000000</td>\n",
              "      <td>188.000000</td>\n",
              "      <td>4.810000</td>\n",
              "      <td>0.015500</td>\n",
              "      <td>20.000000</td>\n",
              "      <td>0.200000</td>\n",
              "      <td>4.885000</td>\n",
              "    </tr>\n",
              "    <tr>\n",
              "      <th>max</th>\n",
              "      <td>613.330000</td>\n",
              "      <td>168.000000</td>\n",
              "      <td>126.000000</td>\n",
              "      <td>1540.000000</td>\n",
              "      <td>875.000000</td>\n",
              "      <td>301.000000</td>\n",
              "      <td>8.360000</td>\n",
              "      <td>0.030000</td>\n",
              "      <td>30.000000</td>\n",
              "      <td>0.500000</td>\n",
              "      <td>9.800000</td>\n",
              "    </tr>\n",
              "  </tbody>\n",
              "</table>\n",
              "</div>\n",
              "      <button class=\"colab-df-convert\" onclick=\"convertToInteractive('df-71153925-0d4e-4e08-8129-652cfa04819a')\"\n",
              "              title=\"Convert this dataframe to an interactive table.\"\n",
              "              style=\"display:none;\">\n",
              "        \n",
              "  <svg xmlns=\"http://www.w3.org/2000/svg\" height=\"24px\"viewBox=\"0 0 24 24\"\n",
              "       width=\"24px\">\n",
              "    <path d=\"M0 0h24v24H0V0z\" fill=\"none\"/>\n",
              "    <path d=\"M18.56 5.44l.94 2.06.94-2.06 2.06-.94-2.06-.94-.94-2.06-.94 2.06-2.06.94zm-11 1L8.5 8.5l.94-2.06 2.06-.94-2.06-.94L8.5 2.5l-.94 2.06-2.06.94zm10 10l.94 2.06.94-2.06 2.06-.94-2.06-.94-.94-2.06-.94 2.06-2.06.94z\"/><path d=\"M17.41 7.96l-1.37-1.37c-.4-.4-.92-.59-1.43-.59-.52 0-1.04.2-1.43.59L10.3 9.45l-7.72 7.72c-.78.78-.78 2.05 0 2.83L4 21.41c.39.39.9.59 1.41.59.51 0 1.02-.2 1.41-.59l7.78-7.78 2.81-2.81c.8-.78.8-2.07 0-2.86zM5.41 20L4 18.59l7.72-7.72 1.47 1.35L5.41 20z\"/>\n",
              "  </svg>\n",
              "      </button>\n",
              "      \n",
              "  <style>\n",
              "    .colab-df-container {\n",
              "      display:flex;\n",
              "      flex-wrap:wrap;\n",
              "      gap: 12px;\n",
              "    }\n",
              "\n",
              "    .colab-df-convert {\n",
              "      background-color: #E8F0FE;\n",
              "      border: none;\n",
              "      border-radius: 50%;\n",
              "      cursor: pointer;\n",
              "      display: none;\n",
              "      fill: #1967D2;\n",
              "      height: 32px;\n",
              "      padding: 0 0 0 0;\n",
              "      width: 32px;\n",
              "    }\n",
              "\n",
              "    .colab-df-convert:hover {\n",
              "      background-color: #E2EBFA;\n",
              "      box-shadow: 0px 1px 2px rgba(60, 64, 67, 0.3), 0px 1px 3px 1px rgba(60, 64, 67, 0.15);\n",
              "      fill: #174EA6;\n",
              "    }\n",
              "\n",
              "    [theme=dark] .colab-df-convert {\n",
              "      background-color: #3B4455;\n",
              "      fill: #D2E3FC;\n",
              "    }\n",
              "\n",
              "    [theme=dark] .colab-df-convert:hover {\n",
              "      background-color: #434B5C;\n",
              "      box-shadow: 0px 1px 3px 1px rgba(0, 0, 0, 0.15);\n",
              "      filter: drop-shadow(0px 1px 2px rgba(0, 0, 0, 0.3));\n",
              "      fill: #FFFFFF;\n",
              "    }\n",
              "  </style>\n",
              "\n",
              "      <script>\n",
              "        const buttonEl =\n",
              "          document.querySelector('#df-71153925-0d4e-4e08-8129-652cfa04819a button.colab-df-convert');\n",
              "        buttonEl.style.display =\n",
              "          google.colab.kernel.accessAllowed ? 'block' : 'none';\n",
              "\n",
              "        async function convertToInteractive(key) {\n",
              "          const element = document.querySelector('#df-71153925-0d4e-4e08-8129-652cfa04819a');\n",
              "          const dataTable =\n",
              "            await google.colab.kernel.invokeFunction('convertToInteractive',\n",
              "                                                     [key], {});\n",
              "          if (!dataTable) return;\n",
              "\n",
              "          const docLinkHtml = 'Like what you see? Visit the ' +\n",
              "            '<a target=\"_blank\" href=https://colab.research.google.com/notebooks/data_table.ipynb>data table notebook</a>'\n",
              "            + ' to learn more about interactive tables.';\n",
              "          element.innerHTML = '';\n",
              "          dataTable['output_type'] = 'display_data';\n",
              "          await google.colab.output.renderOutput(dataTable, element);\n",
              "          const docLink = document.createElement('div');\n",
              "          docLink.innerHTML = docLinkHtml;\n",
              "          element.appendChild(docLink);\n",
              "        }\n",
              "      </script>\n",
              "    </div>\n",
              "  </div>\n",
              "  "
            ]
          },
          "metadata": {},
          "execution_count": 257
        }
      ]
    },
    {
      "cell_type": "markdown",
      "source": [
        "##Correlation Diamgram"
      ],
      "metadata": {
        "id": "9TSp40xIu7J3"
      }
    },
    {
      "cell_type": "code",
      "source": [
        "from matplotlib.cm import scale\n",
        "corr = dt.corr()\n",
        "sns.heatmap(corr, annot = True)"
      ],
      "metadata": {
        "id": "GBU4sMQdv0Z3",
        "colab": {
          "base_uri": "https://localhost:8080/",
          "height": 392
        },
        "outputId": "c66e73ba-9778-49ba-d3f1-f479a8199314"
      },
      "execution_count": 258,
      "outputs": [
        {
          "output_type": "execute_result",
          "data": {
            "text/plain": [
              "<Axes: >"
            ]
          },
          "metadata": {},
          "execution_count": 258
        },
        {
          "output_type": "display_data",
          "data": {
            "text/plain": [
              "<Figure size 432x288 with 2 Axes>"
            ],
            "image/png": "[encoded data removed]"
          },
          "metadata": {
            "needs_background": "light"
          }
        }
      ]
    },
    {
      "cell_type": "markdown",
      "source": [
        "\n",
        "\n",
        "\n",
        "##Data Visualization\n",
        "\n",
        "\n",
        "\n"
      ],
      "metadata": {
        "id": "ottobtD-uzc9"
      }
    },
    {
      "cell_type": "code",
      "source": [
        "#sns.set(style='white',font_scale=1.2, rc={'figure.figsize':(10,20)})\n",
        "#ax=dt.hist(bins=20,color='red' )"
      ],
      "metadata": {
        "id": "cxR4X1zEhlE8"
      },
      "execution_count": 259,
      "outputs": []
    },
    {
      "cell_type": "markdown",
      "source": [
        "\n",
        "\n",
        "\n",
        "\n"
      ],
      "metadata": {
        "id": "0iIbtL0F_Vcs"
      }
    },
    {
      "cell_type": "markdown",
      "metadata": {
        "id": "aiuyXkUlu5Bq"
      },
      "source": [
        "#Correlations Scatter Plot "
      ]
    },
    {
      "cell_type": "code",
      "execution_count": 260,
      "metadata": {
        "id": "Uw9D7aqHu-wm"
      },
      "outputs": [],
      "source": [
        "#sns.pairplot(dt, height=3)"
      ]
    },
    {
      "cell_type": "markdown",
      "source": [
        "# Sample Replication with \"Boostrap Method\""
      ],
      "metadata": {
        "id": "Pdq-TIPkSTYK"
      }
    },
    {
      "cell_type": "code",
      "source": [
        "bootstrap_sample = dt.sample(n=1000, replace=True)\n",
        "dt = pd.concat([dt, bootstrap_sample])"
      ],
      "metadata": {
        "id": "VAenyyLwSSzz"
      },
      "execution_count": 261,
      "outputs": []
    },
    {
      "cell_type": "code",
      "source": [
        "dt"
      ],
      "metadata": {
        "colab": {
          "base_uri": "https://localhost:8080/",
          "height": 485
        },
        "id": "jRoXOs8RWf90",
        "outputId": "ae24a265-3144-4a74-c6c5-eb95b9da0132"
      },
      "execution_count": 262,
      "outputs": [
        {
          "output_type": "execute_result",
          "data": {
            "text/plain": [
              "     Su (kg/m3)  Cimento (kg/m3)  Ucucu kul (kg/m3)  Mikrosilika (kg/m3)  \\\n",
              "0         450.0              0.0                0.0               1150.0   \n",
              "1         450.0              0.0                0.0               1150.0   \n",
              "2         450.0              0.0                0.0               1150.0   \n",
              "3         450.0              0.0                0.0               1150.0   \n",
              "4         450.0              0.0                0.0               1150.0   \n",
              "..          ...              ...                ...                  ...   \n",
              "266       264.0              0.0                0.0                851.0   \n",
              "122       475.0              0.0               25.0               1125.0   \n",
              "176       402.0            121.0               20.0               1000.0   \n",
              "175       402.0            121.0               20.0                968.0   \n",
              "17        300.0            100.0                0.0               1184.0   \n",
              "\n",
              "     Kalin agrega (kg/m3)  Ince agrega (kg/m3)  Su azaltici (kg/m3)  \\\n",
              "0                   670.0                  207                  0.0   \n",
              "1                   670.0                  207                  0.0   \n",
              "2                   670.0                  207                  0.0   \n",
              "3                   670.0                  207                  0.0   \n",
              "4                   670.0                  207                  0.0   \n",
              "..                    ...                  ...                  ...   \n",
              "266                 507.0                  145                  0.0   \n",
              "122                 613.0                  180                  4.2   \n",
              "176                 640.0                  179                  0.0   \n",
              "175                 672.0                  179                  0.0   \n",
              "17                  672.0                  144                  3.0   \n",
              "\n",
              "     Fiber capi (mm)  Fiber uzunlugu (mm)  Fiber orani (%)  \\\n",
              "0              0.020                   30             0.00   \n",
              "1              0.020                   30             0.05   \n",
              "2              0.020                   30             0.10   \n",
              "3              0.020                   30             0.15   \n",
              "4              0.020                   30             0.20   \n",
              "..               ...                  ...              ...   \n",
              "266            0.015                    6             0.20   \n",
              "122            0.015                   12             0.12   \n",
              "176            0.013                   20             0.10   \n",
              "175            0.013                   20             0.10   \n",
              "17             0.015                   18             0.10   \n",
              "\n",
              "     Cekme dayanimi (MPa)  \n",
              "0                    4.03  \n",
              "1                    4.17  \n",
              "2                    4.35  \n",
              "3                    4.52  \n",
              "4                    4.74  \n",
              "..                    ...  \n",
              "266                  2.88  \n",
              "122                  6.56  \n",
              "176                  9.80  \n",
              "175                  9.60  \n",
              "17                   4.34  \n",
              "\n",
              "[1267 rows x 11 columns]"
            ],
            "text/html": [
              "\n",
              "  <div id=\"df-d0e0a721-89f5-4653-ab6d-9224eed72eef\">\n",
              "    <div class=\"colab-df-container\">\n",
              "      <div>\n",
              "<style scoped>\n",
              "    .dataframe tbody tr th:only-of-type {\n",
              "        vertical-align: middle;\n",
              "    }\n",
              "\n",
              "    .dataframe tbody tr th {\n",
              "        vertical-align: top;\n",
              "    }\n",
              "\n",
              "    .dataframe thead th {\n",
              "        text-align: right;\n",
              "    }\n",
              "</style>\n",
              "<table border=\"1\" class=\"dataframe\">\n",
              "  <thead>\n",
              "    <tr style=\"text-align: right;\">\n",
              "      <th></th>\n",
              "      <th>Su (kg/m3)</th>\n",
              "      <th>Cimento (kg/m3)</th>\n",
              "      <th>Ucucu kul (kg/m3)</th>\n",
              "      <th>Mikrosilika (kg/m3)</th>\n",
              "      <th>Kalin agrega (kg/m3)</th>\n",
              "      <th>Ince agrega (kg/m3)</th>\n",
              "      <th>Su azaltici (kg/m3)</th>\n",
              "      <th>Fiber capi (mm)</th>\n",
              "      <th>Fiber uzunlugu (mm)</th>\n",
              "      <th>Fiber orani (%)</th>\n",
              "      <th>Cekme dayanimi (MPa)</th>\n",
              "    </tr>\n",
              "  </thead>\n",
              "  <tbody>\n",
              "    <tr>\n",
              "      <th>0</th>\n",
              "      <td>450.0</td>\n",
              "      <td>0.0</td>\n",
              "      <td>0.0</td>\n",
              "      <td>1150.0</td>\n",
              "      <td>670.0</td>\n",
              "      <td>207</td>\n",
              "      <td>0.0</td>\n",
              "      <td>0.020</td>\n",
              "      <td>30</td>\n",
              "      <td>0.00</td>\n",
              "      <td>4.03</td>\n",
              "    </tr>\n",
              "    <tr>\n",
              "      <th>1</th>\n",
              "      <td>450.0</td>\n",
              "      <td>0.0</td>\n",
              "      <td>0.0</td>\n",
              "      <td>1150.0</td>\n",
              "      <td>670.0</td>\n",
              "      <td>207</td>\n",
              "      <td>0.0</td>\n",
              "      <td>0.020</td>\n",
              "      <td>30</td>\n",
              "      <td>0.05</td>\n",
              "      <td>4.17</td>\n",
              "    </tr>\n",
              "    <tr>\n",
              "      <th>2</th>\n",
              "      <td>450.0</td>\n",
              "      <td>0.0</td>\n",
              "      <td>0.0</td>\n",
              "      <td>1150.0</td>\n",
              "      <td>670.0</td>\n",
              "      <td>207</td>\n",
              "      <td>0.0</td>\n",
              "      <td>0.020</td>\n",
              "      <td>30</td>\n",
              "      <td>0.10</td>\n",
              "      <td>4.35</td>\n",
              "    </tr>\n",
              "    <tr>\n",
              "      <th>3</th>\n",
              "      <td>450.0</td>\n",
              "      <td>0.0</td>\n",
              "      <td>0.0</td>\n",
              "      <td>1150.0</td>\n",
              "      <td>670.0</td>\n",
              "      <td>207</td>\n",
              "      <td>0.0</td>\n",
              "      <td>0.020</td>\n",
              "      <td>30</td>\n",
              "      <td>0.15</td>\n",
              "      <td>4.52</td>\n",
              "    </tr>\n",
              "    <tr>\n",
              "      <th>4</th>\n",
              "      <td>450.0</td>\n",
              "      <td>0.0</td>\n",
              "      <td>0.0</td>\n",
              "      <td>1150.0</td>\n",
              "      <td>670.0</td>\n",
              "      <td>207</td>\n",
              "      <td>0.0</td>\n",
              "      <td>0.020</td>\n",
              "      <td>30</td>\n",
              "      <td>0.20</td>\n",
              "      <td>4.74</td>\n",
              "    </tr>\n",
              "    <tr>\n",
              "      <th>...</th>\n",
              "      <td>...</td>\n",
              "      <td>...</td>\n",
              "      <td>...</td>\n",
              "      <td>...</td>\n",
              "      <td>...</td>\n",
              "      <td>...</td>\n",
              "      <td>...</td>\n",
              "      <td>...</td>\n",
              "      <td>...</td>\n",
              "      <td>...</td>\n",
              "      <td>...</td>\n",
              "    </tr>\n",
              "    <tr>\n",
              "      <th>266</th>\n",
              "      <td>264.0</td>\n",
              "      <td>0.0</td>\n",
              "      <td>0.0</td>\n",
              "      <td>851.0</td>\n",
              "      <td>507.0</td>\n",
              "      <td>145</td>\n",
              "      <td>0.0</td>\n",
              "      <td>0.015</td>\n",
              "      <td>6</td>\n",
              "      <td>0.20</td>\n",
              "      <td>2.88</td>\n",
              "    </tr>\n",
              "    <tr>\n",
              "      <th>122</th>\n",
              "      <td>475.0</td>\n",
              "      <td>0.0</td>\n",
              "      <td>25.0</td>\n",
              "      <td>1125.0</td>\n",
              "      <td>613.0</td>\n",
              "      <td>180</td>\n",
              "      <td>4.2</td>\n",
              "      <td>0.015</td>\n",
              "      <td>12</td>\n",
              "      <td>0.12</td>\n",
              "      <td>6.56</td>\n",
              "    </tr>\n",
              "    <tr>\n",
              "      <th>176</th>\n",
              "      <td>402.0</td>\n",
              "      <td>121.0</td>\n",
              "      <td>20.0</td>\n",
              "      <td>1000.0</td>\n",
              "      <td>640.0</td>\n",
              "      <td>179</td>\n",
              "      <td>0.0</td>\n",
              "      <td>0.013</td>\n",
              "      <td>20</td>\n",
              "      <td>0.10</td>\n",
              "      <td>9.80</td>\n",
              "    </tr>\n",
              "    <tr>\n",
              "      <th>175</th>\n",
              "      <td>402.0</td>\n",
              "      <td>121.0</td>\n",
              "      <td>20.0</td>\n",
              "      <td>968.0</td>\n",
              "      <td>672.0</td>\n",
              "      <td>179</td>\n",
              "      <td>0.0</td>\n",
              "      <td>0.013</td>\n",
              "      <td>20</td>\n",
              "      <td>0.10</td>\n",
              "      <td>9.60</td>\n",
              "    </tr>\n",
              "    <tr>\n",
              "      <th>17</th>\n",
              "      <td>300.0</td>\n",
              "      <td>100.0</td>\n",
              "      <td>0.0</td>\n",
              "      <td>1184.0</td>\n",
              "      <td>672.0</td>\n",
              "      <td>144</td>\n",
              "      <td>3.0</td>\n",
              "      <td>0.015</td>\n",
              "      <td>18</td>\n",
              "      <td>0.10</td>\n",
              "      <td>4.34</td>\n",
              "    </tr>\n",
              "  </tbody>\n",
              "</table>\n",
              "<p>1267 rows × 11 columns</p>\n",
              "</div>\n",
              "      <button class=\"colab-df-convert\" onclick=\"convertToInteractive('df-d0e0a721-89f5-4653-ab6d-9224eed72eef')\"\n",
              "              title=\"Convert this dataframe to an interactive table.\"\n",
              "              style=\"display:none;\">\n",
              "        \n",
              "  <svg xmlns=\"http://www.w3.org/2000/svg\" height=\"24px\"viewBox=\"0 0 24 24\"\n",
              "       width=\"24px\">\n",
              "    <path d=\"M0 0h24v24H0V0z\" fill=\"none\"/>\n",
              "    <path d=\"M18.56 5.44l.94 2.06.94-2.06 2.06-.94-2.06-.94-.94-2.06-.94 2.06-2.06.94zm-11 1L8.5 8.5l.94-2.06 2.06-.94-2.06-.94L8.5 2.5l-.94 2.06-2.06.94zm10 10l.94 2.06.94-2.06 2.06-.94-2.06-.94-.94-2.06-.94 2.06-2.06.94z\"/><path d=\"M17.41 7.96l-1.37-1.37c-.4-.4-.92-.59-1.43-.59-.52 0-1.04.2-1.43.59L10.3 9.45l-7.72 7.72c-.78.78-.78 2.05 0 2.83L4 21.41c.39.39.9.59 1.41.59.51 0 1.02-.2 1.41-.59l7.78-7.78 2.81-2.81c.8-.78.8-2.07 0-2.86zM5.41 20L4 18.59l7.72-7.72 1.47 1.35L5.41 20z\"/>\n",
              "  </svg>\n",
              "      </button>\n",
              "      \n",
              "  <style>\n",
              "    .colab-df-container {\n",
              "      display:flex;\n",
              "      flex-wrap:wrap;\n",
              "      gap: 12px;\n",
              "    }\n",
              "\n",
              "    .colab-df-convert {\n",
              "      background-color: #E8F0FE;\n",
              "      border: none;\n",
              "      border-radius: 50%;\n",
              "      cursor: pointer;\n",
              "      display: none;\n",
              "      fill: #1967D2;\n",
              "      height: 32px;\n",
              "      padding: 0 0 0 0;\n",
              "      width: 32px;\n",
              "    }\n",
              "\n",
              "    .colab-df-convert:hover {\n",
              "      background-color: #E2EBFA;\n",
              "      box-shadow: 0px 1px 2px rgba(60, 64, 67, 0.3), 0px 1px 3px 1px rgba(60, 64, 67, 0.15);\n",
              "      fill: #174EA6;\n",
              "    }\n",
              "\n",
              "    [theme=dark] .colab-df-convert {\n",
              "      background-color: #3B4455;\n",
              "      fill: #D2E3FC;\n",
              "    }\n",
              "\n",
              "    [theme=dark] .colab-df-convert:hover {\n",
              "      background-color: #434B5C;\n",
              "      box-shadow: 0px 1px 3px 1px rgba(0, 0, 0, 0.15);\n",
              "      filter: drop-shadow(0px 1px 2px rgba(0, 0, 0, 0.3));\n",
              "      fill: #FFFFFF;\n",
              "    }\n",
              "  </style>\n",
              "\n",
              "      <script>\n",
              "        const buttonEl =\n",
              "          document.querySelector('#df-d0e0a721-89f5-4653-ab6d-9224eed72eef button.colab-df-convert');\n",
              "        buttonEl.style.display =\n",
              "          google.colab.kernel.accessAllowed ? 'block' : 'none';\n",
              "\n",
              "        async function convertToInteractive(key) {\n",
              "          const element = document.querySelector('#df-d0e0a721-89f5-4653-ab6d-9224eed72eef');\n",
              "          const dataTable =\n",
              "            await google.colab.kernel.invokeFunction('convertToInteractive',\n",
              "                                                     [key], {});\n",
              "          if (!dataTable) return;\n",
              "\n",
              "          const docLinkHtml = 'Like what you see? Visit the ' +\n",
              "            '<a target=\"_blank\" href=https://colab.research.google.com/notebooks/data_table.ipynb>data table notebook</a>'\n",
              "            + ' to learn more about interactive tables.';\n",
              "          element.innerHTML = '';\n",
              "          dataTable['output_type'] = 'display_data';\n",
              "          await google.colab.output.renderOutput(dataTable, element);\n",
              "          const docLink = document.createElement('div');\n",
              "          docLink.innerHTML = docLinkHtml;\n",
              "          element.appendChild(docLink);\n",
              "        }\n",
              "      </script>\n",
              "    </div>\n",
              "  </div>\n",
              "  "
            ]
          },
          "metadata": {},
          "execution_count": 262
        }
      ]
    },
    {
      "cell_type": "markdown",
      "source": [
        "##Correlation Diagram After Boostrap"
      ],
      "metadata": {
        "id": "wG8eYiyFah7u"
      }
    },
    {
      "cell_type": "code",
      "source": [
        "from matplotlib.cm import scale\n",
        "corr = dt.corr()\n",
        "sns.heatmap(corr, annot = True)"
      ],
      "metadata": {
        "colab": {
          "base_uri": "https://localhost:8080/",
          "height": 392
        },
        "id": "ReRe7n6vX1d9",
        "outputId": "a874174c-6e5b-48c9-e85a-ae5d8c331a72"
      },
      "execution_count": 263,
      "outputs": [
        {
          "output_type": "execute_result",
          "data": {
            "text/plain": [
              "<Axes: >"
            ]
          },
          "metadata": {},
          "execution_count": 263
        },
        {
          "output_type": "display_data",
          "data": {
            "text/plain": [
              "<Figure size 432x288 with 2 Axes>"
            ],
            "image/png": "[encoded data removed]"
          },
          "metadata": {
            "needs_background": "light"
          }
        }
      ]
    },
    {
      "cell_type": "markdown",
      "source": [
        "#Target Feature Separation"
      ],
      "metadata": {
        "id": "fs00t_bAFxRn"
      }
    },
    {
      "cell_type": "code",
      "execution_count": 264,
      "metadata": {
        "id": "quIGwqhAWP71"
      },
      "outputs": [],
      "source": [
        "X = dt.drop(['Fiber orani (%)','Fiber capi (mm)','Fiber uzunlugu (mm)'], axis = 1)\n",
        "y1=dt['Fiber capi (mm)']\n",
        "y2=dt['Fiber orani (%)']\n",
        "y3=dt['Fiber uzunlugu (mm)']"
      ]
    },
    {
      "cell_type": "code",
      "source": [
        "X"
      ],
      "metadata": {
        "colab": {
          "base_uri": "https://localhost:8080/",
          "height": 423
        },
        "id": "4Ea6dYRhPfGs",
        "outputId": "c14cc176-ef94-470a-98f2-da25e184af75"
      },
      "execution_count": 265,
      "outputs": [
        {
          "output_type": "execute_result",
          "data": {
            "text/plain": [
              "     Su (kg/m3)  Cimento (kg/m3)  Ucucu kul (kg/m3)  Mikrosilika (kg/m3)  \\\n",
              "0         450.0              0.0                0.0               1150.0   \n",
              "1         450.0              0.0                0.0               1150.0   \n",
              "2         450.0              0.0                0.0               1150.0   \n",
              "3         450.0              0.0                0.0               1150.0   \n",
              "4         450.0              0.0                0.0               1150.0   \n",
              "..          ...              ...                ...                  ...   \n",
              "266       264.0              0.0                0.0                851.0   \n",
              "122       475.0              0.0               25.0               1125.0   \n",
              "176       402.0            121.0               20.0               1000.0   \n",
              "175       402.0            121.0               20.0                968.0   \n",
              "17        300.0            100.0                0.0               1184.0   \n",
              "\n",
              "     Kalin agrega (kg/m3)  Ince agrega (kg/m3)  Su azaltici (kg/m3)  \\\n",
              "0                   670.0                  207                  0.0   \n",
              "1                   670.0                  207                  0.0   \n",
              "2                   670.0                  207                  0.0   \n",
              "3                   670.0                  207                  0.0   \n",
              "4                   670.0                  207                  0.0   \n",
              "..                    ...                  ...                  ...   \n",
              "266                 507.0                  145                  0.0   \n",
              "122                 613.0                  180                  4.2   \n",
              "176                 640.0                  179                  0.0   \n",
              "175                 672.0                  179                  0.0   \n",
              "17                  672.0                  144                  3.0   \n",
              "\n",
              "     Cekme dayanimi (MPa)  \n",
              "0                    4.03  \n",
              "1                    4.17  \n",
              "2                    4.35  \n",
              "3                    4.52  \n",
              "4                    4.74  \n",
              "..                    ...  \n",
              "266                  2.88  \n",
              "122                  6.56  \n",
              "176                  9.80  \n",
              "175                  9.60  \n",
              "17                   4.34  \n",
              "\n",
              "[1267 rows x 8 columns]"
            ],
            "text/html": [
              "\n",
              "  <div id=\"df-cee0bfcf-ff40-4b45-b946-5f19c9f49f69\">\n",
              "    <div class=\"colab-df-container\">\n",
              "      <div>\n",
              "<style scoped>\n",
              "    .dataframe tbody tr th:only-of-type {\n",
              "        vertical-align: middle;\n",
              "    }\n",
              "\n",
              "    .dataframe tbody tr th {\n",
              "        vertical-align: top;\n",
              "    }\n",
              "\n",
              "    .dataframe thead th {\n",
              "        text-align: right;\n",
              "    }\n",
              "</style>\n",
              "<table border=\"1\" class=\"dataframe\">\n",
              "  <thead>\n",
              "    <tr style=\"text-align: right;\">\n",
              "      <th></th>\n",
              "      <th>Su (kg/m3)</th>\n",
              "      <th>Cimento (kg/m3)</th>\n",
              "      <th>Ucucu kul (kg/m3)</th>\n",
              "      <th>Mikrosilika (kg/m3)</th>\n",
              "      <th>Kalin agrega (kg/m3)</th>\n",
              "      <th>Ince agrega (kg/m3)</th>\n",
              "      <th>Su azaltici (kg/m3)</th>\n",
              "      <th>Cekme dayanimi (MPa)</th>\n",
              "    </tr>\n",
              "  </thead>\n",
              "  <tbody>\n",
              "    <tr>\n",
              "      <th>0</th>\n",
              "      <td>450.0</td>\n",
              "      <td>0.0</td>\n",
              "      <td>0.0</td>\n",
              "      <td>1150.0</td>\n",
              "      <td>670.0</td>\n",
              "      <td>207</td>\n",
              "      <td>0.0</td>\n",
              "      <td>4.03</td>\n",
              "    </tr>\n",
              "    <tr>\n",
              "      <th>1</th>\n",
              "      <td>450.0</td>\n",
              "      <td>0.0</td>\n",
              "      <td>0.0</td>\n",
              "      <td>1150.0</td>\n",
              "      <td>670.0</td>\n",
              "      <td>207</td>\n",
              "      <td>0.0</td>\n",
              "      <td>4.17</td>\n",
              "    </tr>\n",
              "    <tr>\n",
              "      <th>2</th>\n",
              "      <td>450.0</td>\n",
              "      <td>0.0</td>\n",
              "      <td>0.0</td>\n",
              "      <td>1150.0</td>\n",
              "      <td>670.0</td>\n",
              "      <td>207</td>\n",
              "      <td>0.0</td>\n",
              "      <td>4.35</td>\n",
              "    </tr>\n",
              "    <tr>\n",
              "      <th>3</th>\n",
              "      <td>450.0</td>\n",
              "      <td>0.0</td>\n",
              "      <td>0.0</td>\n",
              "      <td>1150.0</td>\n",
              "      <td>670.0</td>\n",
              "      <td>207</td>\n",
              "      <td>0.0</td>\n",
              "      <td>4.52</td>\n",
              "    </tr>\n",
              "    <tr>\n",
              "      <th>4</th>\n",
              "      <td>450.0</td>\n",
              "      <td>0.0</td>\n",
              "      <td>0.0</td>\n",
              "      <td>1150.0</td>\n",
              "      <td>670.0</td>\n",
              "      <td>207</td>\n",
              "      <td>0.0</td>\n",
              "      <td>4.74</td>\n",
              "    </tr>\n",
              "    <tr>\n",
              "      <th>...</th>\n",
              "      <td>...</td>\n",
              "      <td>...</td>\n",
              "      <td>...</td>\n",
              "      <td>...</td>\n",
              "      <td>...</td>\n",
              "      <td>...</td>\n",
              "      <td>...</td>\n",
              "      <td>...</td>\n",
              "    </tr>\n",
              "    <tr>\n",
              "      <th>266</th>\n",
              "      <td>264.0</td>\n",
              "      <td>0.0</td>\n",
              "      <td>0.0</td>\n",
              "      <td>851.0</td>\n",
              "      <td>507.0</td>\n",
              "      <td>145</td>\n",
              "      <td>0.0</td>\n",
              "      <td>2.88</td>\n",
              "    </tr>\n",
              "    <tr>\n",
              "      <th>122</th>\n",
              "      <td>475.0</td>\n",
              "      <td>0.0</td>\n",
              "      <td>25.0</td>\n",
              "      <td>1125.0</td>\n",
              "      <td>613.0</td>\n",
              "      <td>180</td>\n",
              "      <td>4.2</td>\n",
              "      <td>6.56</td>\n",
              "    </tr>\n",
              "    <tr>\n",
              "      <th>176</th>\n",
              "      <td>402.0</td>\n",
              "      <td>121.0</td>\n",
              "      <td>20.0</td>\n",
              "      <td>1000.0</td>\n",
              "      <td>640.0</td>\n",
              "      <td>179</td>\n",
              "      <td>0.0</td>\n",
              "      <td>9.80</td>\n",
              "    </tr>\n",
              "    <tr>\n",
              "      <th>175</th>\n",
              "      <td>402.0</td>\n",
              "      <td>121.0</td>\n",
              "      <td>20.0</td>\n",
              "      <td>968.0</td>\n",
              "      <td>672.0</td>\n",
              "      <td>179</td>\n",
              "      <td>0.0</td>\n",
              "      <td>9.60</td>\n",
              "    </tr>\n",
              "    <tr>\n",
              "      <th>17</th>\n",
              "      <td>300.0</td>\n",
              "      <td>100.0</td>\n",
              "      <td>0.0</td>\n",
              "      <td>1184.0</td>\n",
              "      <td>672.0</td>\n",
              "      <td>144</td>\n",
              "      <td>3.0</td>\n",
              "      <td>4.34</td>\n",
              "    </tr>\n",
              "  </tbody>\n",
              "</table>\n",
              "<p>1267 rows × 8 columns</p>\n",
              "</div>\n",
              "      <button class=\"colab-df-convert\" onclick=\"convertToInteractive('df-cee0bfcf-ff40-4b45-b946-5f19c9f49f69')\"\n",
              "              title=\"Convert this dataframe to an interactive table.\"\n",
              "              style=\"display:none;\">\n",
              "        \n",
              "  <svg xmlns=\"http://www.w3.org/2000/svg\" height=\"24px\"viewBox=\"0 0 24 24\"\n",
              "       width=\"24px\">\n",
              "    <path d=\"M0 0h24v24H0V0z\" fill=\"none\"/>\n",
              "    <path d=\"M18.56 5.44l.94 2.06.94-2.06 2.06-.94-2.06-.94-.94-2.06-.94 2.06-2.06.94zm-11 1L8.5 8.5l.94-2.06 2.06-.94-2.06-.94L8.5 2.5l-.94 2.06-2.06.94zm10 10l.94 2.06.94-2.06 2.06-.94-2.06-.94-.94-2.06-.94 2.06-2.06.94z\"/><path d=\"M17.41 7.96l-1.37-1.37c-.4-.4-.92-.59-1.43-.59-.52 0-1.04.2-1.43.59L10.3 9.45l-7.72 7.72c-.78.78-.78 2.05 0 2.83L4 21.41c.39.39.9.59 1.41.59.51 0 1.02-.2 1.41-.59l7.78-7.78 2.81-2.81c.8-.78.8-2.07 0-2.86zM5.41 20L4 18.59l7.72-7.72 1.47 1.35L5.41 20z\"/>\n",
              "  </svg>\n",
              "      </button>\n",
              "      \n",
              "  <style>\n",
              "    .colab-df-container {\n",
              "      display:flex;\n",
              "      flex-wrap:wrap;\n",
              "      gap: 12px;\n",
              "    }\n",
              "\n",
              "    .colab-df-convert {\n",
              "      background-color: #E8F0FE;\n",
              "      border: none;\n",
              "      border-radius: 50%;\n",
              "      cursor: pointer;\n",
              "      display: none;\n",
              "      fill: #1967D2;\n",
              "      height: 32px;\n",
              "      padding: 0 0 0 0;\n",
              "      width: 32px;\n",
              "    }\n",
              "\n",
              "    .colab-df-convert:hover {\n",
              "      background-color: #E2EBFA;\n",
              "      box-shadow: 0px 1px 2px rgba(60, 64, 67, 0.3), 0px 1px 3px 1px rgba(60, 64, 67, 0.15);\n",
              "      fill: #174EA6;\n",
              "    }\n",
              "\n",
              "    [theme=dark] .colab-df-convert {\n",
              "      background-color: #3B4455;\n",
              "      fill: #D2E3FC;\n",
              "    }\n",
              "\n",
              "    [theme=dark] .colab-df-convert:hover {\n",
              "      background-color: #434B5C;\n",
              "      box-shadow: 0px 1px 3px 1px rgba(0, 0, 0, 0.15);\n",
              "      filter: drop-shadow(0px 1px 2px rgba(0, 0, 0, 0.3));\n",
              "      fill: #FFFFFF;\n",
              "    }\n",
              "  </style>\n",
              "\n",
              "      <script>\n",
              "        const buttonEl =\n",
              "          document.querySelector('#df-cee0bfcf-ff40-4b45-b946-5f19c9f49f69 button.colab-df-convert');\n",
              "        buttonEl.style.display =\n",
              "          google.colab.kernel.accessAllowed ? 'block' : 'none';\n",
              "\n",
              "        async function convertToInteractive(key) {\n",
              "          const element = document.querySelector('#df-cee0bfcf-ff40-4b45-b946-5f19c9f49f69');\n",
              "          const dataTable =\n",
              "            await google.colab.kernel.invokeFunction('convertToInteractive',\n",
              "                                                     [key], {});\n",
              "          if (!dataTable) return;\n",
              "\n",
              "          const docLinkHtml = 'Like what you see? Visit the ' +\n",
              "            '<a target=\"_blank\" href=https://colab.research.google.com/notebooks/data_table.ipynb>data table notebook</a>'\n",
              "            + ' to learn more about interactive tables.';\n",
              "          element.innerHTML = '';\n",
              "          dataTable['output_type'] = 'display_data';\n",
              "          await google.colab.output.renderOutput(dataTable, element);\n",
              "          const docLink = document.createElement('div');\n",
              "          docLink.innerHTML = docLinkHtml;\n",
              "          element.appendChild(docLink);\n",
              "        }\n",
              "      </script>\n",
              "    </div>\n",
              "  </div>\n",
              "  "
            ]
          },
          "metadata": {},
          "execution_count": 265
        }
      ]
    },
    {
      "cell_type": "markdown",
      "source": [
        "# Feature Shape Control"
      ],
      "metadata": {
        "id": "P2wc3nr1GSJe"
      }
    },
    {
      "cell_type": "code",
      "execution_count": 266,
      "metadata": {
        "colab": {
          "base_uri": "https://localhost:8080/"
        },
        "id": "yr3YVGSQAL3L",
        "outputId": "5091e710-87dd-47a4-cdc1-80a85795bc8c"
      },
      "outputs": [
        {
          "output_type": "execute_result",
          "data": {
            "text/plain": [
              "((1267,), (1267, 8))"
            ]
          },
          "metadata": {},
          "execution_count": 266
        }
      ],
      "source": [
        "y1.shape,X.shape"
      ]
    },
    {
      "cell_type": "code",
      "source": [
        "y2.shape,X.shape"
      ],
      "metadata": {
        "colab": {
          "base_uri": "https://localhost:8080/"
        },
        "id": "26cQWWao9JZh",
        "outputId": "592987d8-b0a9-41ee-8ea7-43399d1f2c10"
      },
      "execution_count": 267,
      "outputs": [
        {
          "output_type": "execute_result",
          "data": {
            "text/plain": [
              "((1267,), (1267, 8))"
            ]
          },
          "metadata": {},
          "execution_count": 267
        }
      ]
    },
    {
      "cell_type": "code",
      "source": [
        "y3.shape,X.shape"
      ],
      "metadata": {
        "colab": {
          "base_uri": "https://localhost:8080/"
        },
        "id": "AdCLOWthMskp",
        "outputId": "974314ce-c549-4a73-d550-2015ec4f2cf4"
      },
      "execution_count": 268,
      "outputs": [
        {
          "output_type": "execute_result",
          "data": {
            "text/plain": [
              "((1267,), (1267, 8))"
            ]
          },
          "metadata": {},
          "execution_count": 268
        }
      ]
    },
    {
      "cell_type": "markdown",
      "source": [
        "#Feature Visualization "
      ],
      "metadata": {
        "id": "GwZIVhXEIgDE"
      }
    },
    {
      "cell_type": "markdown",
      "source": [
        "First 5 lines for feature 'Stress' and 'max diameter' "
      ],
      "metadata": {
        "id": "LJ-VE8hAI7hh"
      }
    },
    {
      "cell_type": "code",
      "execution_count": 269,
      "metadata": {
        "colab": {
          "base_uri": "https://localhost:8080/",
          "height": 206
        },
        "id": "W9mahnwYVYc6",
        "outputId": "60465f92-9833-4c43-bb6b-23c9f6c2e624"
      },
      "outputs": [
        {
          "output_type": "execute_result",
          "data": {
            "text/plain": [
              "   Su (kg/m3)  Cimento (kg/m3)  Ucucu kul (kg/m3)  Mikrosilika (kg/m3)  \\\n",
              "0       450.0              0.0                0.0               1150.0   \n",
              "1       450.0              0.0                0.0               1150.0   \n",
              "2       450.0              0.0                0.0               1150.0   \n",
              "3       450.0              0.0                0.0               1150.0   \n",
              "4       450.0              0.0                0.0               1150.0   \n",
              "\n",
              "   Kalin agrega (kg/m3)  Ince agrega (kg/m3)  Su azaltici (kg/m3)  \\\n",
              "0                 670.0                  207                  0.0   \n",
              "1                 670.0                  207                  0.0   \n",
              "2                 670.0                  207                  0.0   \n",
              "3                 670.0                  207                  0.0   \n",
              "4                 670.0                  207                  0.0   \n",
              "\n",
              "   Cekme dayanimi (MPa)  \n",
              "0                  4.03  \n",
              "1                  4.17  \n",
              "2                  4.35  \n",
              "3                  4.52  \n",
              "4                  4.74  "
            ],
            "text/html": [
              "\n",
              "  <div id=\"df-08048387-1cd4-4193-aca9-ae3b3ef91145\">\n",
              "    <div class=\"colab-df-container\">\n",
              "      <div>\n",
              "<style scoped>\n",
              "    .dataframe tbody tr th:only-of-type {\n",
              "        vertical-align: middle;\n",
              "    }\n",
              "\n",
              "    .dataframe tbody tr th {\n",
              "        vertical-align: top;\n",
              "    }\n",
              "\n",
              "    .dataframe thead th {\n",
              "        text-align: right;\n",
              "    }\n",
              "</style>\n",
              "<table border=\"1\" class=\"dataframe\">\n",
              "  <thead>\n",
              "    <tr style=\"text-align: right;\">\n",
              "      <th></th>\n",
              "      <th>Su (kg/m3)</th>\n",
              "      <th>Cimento (kg/m3)</th>\n",
              "      <th>Ucucu kul (kg/m3)</th>\n",
              "      <th>Mikrosilika (kg/m3)</th>\n",
              "      <th>Kalin agrega (kg/m3)</th>\n",
              "      <th>Ince agrega (kg/m3)</th>\n",
              "      <th>Su azaltici (kg/m3)</th>\n",
              "      <th>Cekme dayanimi (MPa)</th>\n",
              "    </tr>\n",
              "  </thead>\n",
              "  <tbody>\n",
              "    <tr>\n",
              "      <th>0</th>\n",
              "      <td>450.0</td>\n",
              "      <td>0.0</td>\n",
              "      <td>0.0</td>\n",
              "      <td>1150.0</td>\n",
              "      <td>670.0</td>\n",
              "      <td>207</td>\n",
              "      <td>0.0</td>\n",
              "      <td>4.03</td>\n",
              "    </tr>\n",
              "    <tr>\n",
              "      <th>1</th>\n",
              "      <td>450.0</td>\n",
              "      <td>0.0</td>\n",
              "      <td>0.0</td>\n",
              "      <td>1150.0</td>\n",
              "      <td>670.0</td>\n",
              "      <td>207</td>\n",
              "      <td>0.0</td>\n",
              "      <td>4.17</td>\n",
              "    </tr>\n",
              "    <tr>\n",
              "      <th>2</th>\n",
              "      <td>450.0</td>\n",
              "      <td>0.0</td>\n",
              "      <td>0.0</td>\n",
              "      <td>1150.0</td>\n",
              "      <td>670.0</td>\n",
              "      <td>207</td>\n",
              "      <td>0.0</td>\n",
              "      <td>4.35</td>\n",
              "    </tr>\n",
              "    <tr>\n",
              "      <th>3</th>\n",
              "      <td>450.0</td>\n",
              "      <td>0.0</td>\n",
              "      <td>0.0</td>\n",
              "      <td>1150.0</td>\n",
              "      <td>670.0</td>\n",
              "      <td>207</td>\n",
              "      <td>0.0</td>\n",
              "      <td>4.52</td>\n",
              "    </tr>\n",
              "    <tr>\n",
              "      <th>4</th>\n",
              "      <td>450.0</td>\n",
              "      <td>0.0</td>\n",
              "      <td>0.0</td>\n",
              "      <td>1150.0</td>\n",
              "      <td>670.0</td>\n",
              "      <td>207</td>\n",
              "      <td>0.0</td>\n",
              "      <td>4.74</td>\n",
              "    </tr>\n",
              "  </tbody>\n",
              "</table>\n",
              "</div>\n",
              "      <button class=\"colab-df-convert\" onclick=\"convertToInteractive('df-08048387-1cd4-4193-aca9-ae3b3ef91145')\"\n",
              "              title=\"Convert this dataframe to an interactive table.\"\n",
              "              style=\"display:none;\">\n",
              "        \n",
              "  <svg xmlns=\"http://www.w3.org/2000/svg\" height=\"24px\"viewBox=\"0 0 24 24\"\n",
              "       width=\"24px\">\n",
              "    <path d=\"M0 0h24v24H0V0z\" fill=\"none\"/>\n",
              "    <path d=\"M18.56 5.44l.94 2.06.94-2.06 2.06-.94-2.06-.94-.94-2.06-.94 2.06-2.06.94zm-11 1L8.5 8.5l.94-2.06 2.06-.94-2.06-.94L8.5 2.5l-.94 2.06-2.06.94zm10 10l.94 2.06.94-2.06 2.06-.94-2.06-.94-.94-2.06-.94 2.06-2.06.94z\"/><path d=\"M17.41 7.96l-1.37-1.37c-.4-.4-.92-.59-1.43-.59-.52 0-1.04.2-1.43.59L10.3 9.45l-7.72 7.72c-.78.78-.78 2.05 0 2.83L4 21.41c.39.39.9.59 1.41.59.51 0 1.02-.2 1.41-.59l7.78-7.78 2.81-2.81c.8-.78.8-2.07 0-2.86zM5.41 20L4 18.59l7.72-7.72 1.47 1.35L5.41 20z\"/>\n",
              "  </svg>\n",
              "      </button>\n",
              "      \n",
              "  <style>\n",
              "    .colab-df-container {\n",
              "      display:flex;\n",
              "      flex-wrap:wrap;\n",
              "      gap: 12px;\n",
              "    }\n",
              "\n",
              "    .colab-df-convert {\n",
              "      background-color: #E8F0FE;\n",
              "      border: none;\n",
              "      border-radius: 50%;\n",
              "      cursor: pointer;\n",
              "      display: none;\n",
              "      fill: #1967D2;\n",
              "      height: 32px;\n",
              "      padding: 0 0 0 0;\n",
              "      width: 32px;\n",
              "    }\n",
              "\n",
              "    .colab-df-convert:hover {\n",
              "      background-color: #E2EBFA;\n",
              "      box-shadow: 0px 1px 2px rgba(60, 64, 67, 0.3), 0px 1px 3px 1px rgba(60, 64, 67, 0.15);\n",
              "      fill: #174EA6;\n",
              "    }\n",
              "\n",
              "    [theme=dark] .colab-df-convert {\n",
              "      background-color: #3B4455;\n",
              "      fill: #D2E3FC;\n",
              "    }\n",
              "\n",
              "    [theme=dark] .colab-df-convert:hover {\n",
              "      background-color: #434B5C;\n",
              "      box-shadow: 0px 1px 3px 1px rgba(0, 0, 0, 0.15);\n",
              "      filter: drop-shadow(0px 1px 2px rgba(0, 0, 0, 0.3));\n",
              "      fill: #FFFFFF;\n",
              "    }\n",
              "  </style>\n",
              "\n",
              "      <script>\n",
              "        const buttonEl =\n",
              "          document.querySelector('#df-08048387-1cd4-4193-aca9-ae3b3ef91145 button.colab-df-convert');\n",
              "        buttonEl.style.display =\n",
              "          google.colab.kernel.accessAllowed ? 'block' : 'none';\n",
              "\n",
              "        async function convertToInteractive(key) {\n",
              "          const element = document.querySelector('#df-08048387-1cd4-4193-aca9-ae3b3ef91145');\n",
              "          const dataTable =\n",
              "            await google.colab.kernel.invokeFunction('convertToInteractive',\n",
              "                                                     [key], {});\n",
              "          if (!dataTable) return;\n",
              "\n",
              "          const docLinkHtml = 'Like what you see? Visit the ' +\n",
              "            '<a target=\"_blank\" href=https://colab.research.google.com/notebooks/data_table.ipynb>data table notebook</a>'\n",
              "            + ' to learn more about interactive tables.';\n",
              "          element.innerHTML = '';\n",
              "          dataTable['output_type'] = 'display_data';\n",
              "          await google.colab.output.renderOutput(dataTable, element);\n",
              "          const docLink = document.createElement('div');\n",
              "          docLink.innerHTML = docLinkHtml;\n",
              "          element.appendChild(docLink);\n",
              "        }\n",
              "      </script>\n",
              "    </div>\n",
              "  </div>\n",
              "  "
            ]
          },
          "metadata": {},
          "execution_count": 269
        }
      ],
      "source": [
        "X.head()"
      ]
    },
    {
      "cell_type": "markdown",
      "metadata": {
        "id": "US0BCNKwaVXM"
      },
      "source": [
        "#Split"
      ]
    },
    {
      "cell_type": "markdown",
      "source": [
        "Train Test Split for 'Stress'"
      ],
      "metadata": {
        "id": "Dya0X_N4GbU0"
      }
    },
    {
      "cell_type": "code",
      "execution_count": 270,
      "metadata": {
        "id": "G4VmMxqHvt-1"
      },
      "outputs": [],
      "source": [
        "from sklearn.model_selection import train_test_split\n",
        "X_train, X_test, y1_train, y1_test = train_test_split(X, y1, test_size=0.2, random_state=42)\n",
        "X_train, X_test, y2_train, y2_test = train_test_split(X, y2, test_size=0.2, random_state=42)\n",
        "X_train, X_test, y3_train, y3_test = train_test_split(X, y3, test_size=0.2, random_state=42)"
      ]
    },
    {
      "cell_type": "markdown",
      "metadata": {
        "id": "avX1V-p_nztR"
      },
      "source": [
        "#Normalization Scaler"
      ]
    },
    {
      "cell_type": "code",
      "execution_count": 271,
      "metadata": {
        "id": "Z7caRYtjk7Av"
      },
      "outputs": [],
      "source": [
        "from sklearn.preprocessing import StandardScaler\n",
        "sc = StandardScaler()\n",
        "X_train = sc.fit_transform(X_train)\n",
        "X_test = sc.transform(X_test)"
      ]
    },
    {
      "cell_type": "code",
      "source": [
        "X_train.shape"
      ],
      "metadata": {
        "colab": {
          "base_uri": "https://localhost:8080/"
        },
        "id": "pwRwaMgwGea1",
        "outputId": "9c70a991-2542-42a0-8d35-fc4eab2e6ff4"
      },
      "execution_count": 272,
      "outputs": [
        {
          "output_type": "execute_result",
          "data": {
            "text/plain": [
              "(1013, 8)"
            ]
          },
          "metadata": {},
          "execution_count": 272
        }
      ]
    },
    {
      "cell_type": "markdown",
      "source": [
        "\n",
        "# MultiOutput Regressor for Using Gradient Boosting Regressor\n",
        "\n"
      ],
      "metadata": {
        "id": "5CIhPw4O-EIM"
      }
    },
    {
      "cell_type": "code",
      "source": [
        "from sklearn.multioutput import MultiOutputRegressor\n",
        "from sklearn.ensemble import RandomForestRegressor\n",
        "from sklearn.linear_model import LinearRegression as lr"
      ],
      "metadata": {
        "id": "ez6CDpu_-a6I"
      },
      "execution_count": 273,
      "outputs": []
    },
    {
      "cell_type": "code",
      "source": [
        "from sklearn.ensemble import GradientBoostingRegressor\n",
        "mor = GradientBoostingRegressor(n_estimators=100, max_depth=3, learning_rate=0.1)"
      ],
      "metadata": {
        "id": "vS_KM-QcYFDK"
      },
      "execution_count": 274,
      "outputs": []
    },
    {
      "cell_type": "code",
      "source": [
        "#rf = RandomForestRegressor(n_estimators = 400, random_state =0)\n",
        "#mor = MultiOutputRegressor(rf)"
      ],
      "metadata": {
        "id": "9hJPJ44wZje6"
      },
      "execution_count": 275,
      "outputs": []
    },
    {
      "cell_type": "code",
      "source": [
        "from sklearn.ensemble import GradientBoostingRegressor\n",
        "\n",
        "params = {'n_estimators': 500,\n",
        "          'max_depth': 5,\n",
        "          'min_samples_split': 6,\n",
        "          'learning_rate': 0.005,\n",
        "          'loss': 'squared_error'}\n",
        "\n",
        "# Modeli oluşturma\n",
        "gb_model = GradientBoostingRegressor(**params)\n",
        "\n",
        "\n",
        "\n",
        "# Modeli eğitme\n",
        "\n",
        "mor = MultiOutputRegressor(gb_model)\n",
        "mor.fit(X_train, np.column_stack((y1_train, y2_train,y3_train)))\n"
      ],
      "metadata": {
        "colab": {
          "base_uri": "https://localhost:8080/",
          "height": 117
        },
        "id": "WK5RkbFfb6dY",
        "outputId": "0c90d33b-a6ec-4464-9342-10e9b8361207"
      },
      "execution_count": 276,
      "outputs": [
        {
          "output_type": "execute_result",
          "data": {
            "text/plain": [
              "MultiOutputRegressor(estimator=GradientBoostingRegressor(learning_rate=0.005,\n",
              "                                                         max_depth=5,\n",
              "                                                         min_samples_split=6,\n",
              "                                                         n_estimators=500))"
            ],
            "text/html": [
              "<style>#sk-container-id-4 {color: black;background-color: white;}#sk-container-id-4 pre{padding: 0;}#sk-container-id-4 div.sk-toggleable {background-color: white;}#sk-container-id-4 label.sk-toggleable__label {cursor: pointer;display: block;width: 100%;margin-bottom: 0;padding: 0.3em;box-sizing: border-box;text-align: center;}#sk-container-id-4 label.sk-toggleable__label-arrow:before {content: \"▸\";float: left;margin-right: 0.25em;color: #696969;}#sk-container-id-4 label.sk-toggleable__label-arrow:hover:before {color: black;}#sk-container-id-4 div.sk-estimator:hover label.sk-toggleable__label-arrow:before {color: black;}#sk-container-id-4 div.sk-toggleable__content {max-height: 0;max-width: 0;overflow: hidden;text-align: left;background-color: #f0f8ff;}#sk-container-id-4 div.sk-toggleable__content pre {margin: 0.2em;color: black;border-radius: 0.25em;background-color: #f0f8ff;}#sk-container-id-4 input.sk-toggleable__control:checked~div.sk-toggleable__content {max-height: 200px;max-width: 100%;overflow: auto;}#sk-container-id-4 input.sk-toggleable__control:checked~label.sk-toggleable__label-arrow:before {content: \"▾\";}#sk-container-id-4 div.sk-estimator input.sk-toggleable__control:checked~label.sk-toggleable__label {background-color: #d4ebff;}#sk-container-id-4 div.sk-label input.sk-toggleable__control:checked~label.sk-toggleable__label {background-color: #d4ebff;}#sk-container-id-4 input.sk-hidden--visually {border: 0;clip: rect(1px 1px 1px 1px);clip: rect(1px, 1px, 1px, 1px);height: 1px;margin: -1px;overflow: hidden;padding: 0;position: absolute;width: 1px;}#sk-container-id-4 div.sk-estimator {font-family: monospace;background-color: #f0f8ff;border: 1px dotted black;border-radius: 0.25em;box-sizing: border-box;margin-bottom: 0.5em;}#sk-container-id-4 div.sk-estimator:hover {background-color: #d4ebff;}#sk-container-id-4 div.sk-parallel-item::after {content: \"\";width: 100%;border-bottom: 1px solid gray;flex-grow: 1;}#sk-container-id-4 div.sk-label:hover label.sk-toggleable__label {background-color: #d4ebff;}#sk-container-id-4 div.sk-serial::before {content: \"\";position: absolute;border-left: 1px solid gray;box-sizing: border-box;top: 0;bottom: 0;left: 50%;z-index: 0;}#sk-container-id-4 div.sk-serial {display: flex;flex-direction: column;align-items: center;background-color: white;padding-right: 0.2em;padding-left: 0.2em;position: relative;}#sk-container-id-4 div.sk-item {position: relative;z-index: 1;}#sk-container-id-4 div.sk-parallel {display: flex;align-items: stretch;justify-content: center;background-color: white;position: relative;}#sk-container-id-4 div.sk-item::before, #sk-container-id-4 div.sk-parallel-item::before {content: \"\";position: absolute;border-left: 1px solid gray;box-sizing: border-box;top: 0;bottom: 0;left: 50%;z-index: -1;}#sk-container-id-4 div.sk-parallel-item {display: flex;flex-direction: column;z-index: 1;position: relative;background-color: white;}#sk-container-id-4 div.sk-parallel-item:first-child::after {align-self: flex-end;width: 50%;}#sk-container-id-4 div.sk-parallel-item:last-child::after {align-self: flex-start;width: 50%;}#sk-container-id-4 div.sk-parallel-item:only-child::after {width: 0;}#sk-container-id-4 div.sk-dashed-wrapped {border: 1px dashed gray;margin: 0 0.4em 0.5em 0.4em;box-sizing: border-box;padding-bottom: 0.4em;background-color: white;}#sk-container-id-4 div.sk-label label {font-family: monospace;font-weight: bold;display: inline-block;line-height: 1.2em;}#sk-container-id-4 div.sk-label-container {text-align: center;}#sk-container-id-4 div.sk-container {/* jupyter's `normalize.less` sets `[hidden] { display: none; }` but bootstrap.min.css set `[hidden] { display: none !important; }` so we also need the `!important` here to be able to override the default hidden behavior on the sphinx rendered scikit-learn.org. See: https://github.com/scikit-learn/scikit-learn/issues/21755 */display: inline-block !important;position: relative;}#sk-container-id-4 div.sk-text-repr-fallback {display: none;}</style><div id=\"sk-container-id-4\" class=\"sk-top-container\"><div class=\"sk-text-repr-fallback\"><pre>MultiOutputRegressor(estimator=GradientBoostingRegressor(learning_rate=0.005,\n",
              "                                                         max_depth=5,\n",
              "                                                         min_samples_split=6,\n",
              "                                                         n_estimators=500))</pre><b>In a Jupyter environment, please rerun this cell to show the HTML representation or trust the notebook. <br />On GitHub, the HTML representation is unable to render, please try loading this page with nbviewer.org.</b></div><div class=\"sk-container\" hidden><div class=\"sk-item sk-dashed-wrapped\"><div class=\"sk-label-container\"><div class=\"sk-label sk-toggleable\"><input class=\"sk-toggleable__control sk-hidden--visually\" id=\"sk-estimator-id-10\" type=\"checkbox\" ><label for=\"sk-estimator-id-10\" class=\"sk-toggleable__label sk-toggleable__label-arrow\">MultiOutputRegressor</label><div class=\"sk-toggleable__content\"><pre>MultiOutputRegressor(estimator=GradientBoostingRegressor(learning_rate=0.005,\n",
              "                                                         max_depth=5,\n",
              "                                                         min_samples_split=6,\n",
              "                                                         n_estimators=500))</pre></div></div></div><div class=\"sk-parallel\"><div class=\"sk-parallel-item\"><div class=\"sk-item\"><div class=\"sk-label-container\"><div class=\"sk-label sk-toggleable\"><input class=\"sk-toggleable__control sk-hidden--visually\" id=\"sk-estimator-id-11\" type=\"checkbox\" ><label for=\"sk-estimator-id-11\" class=\"sk-toggleable__label sk-toggleable__label-arrow\">estimator: GradientBoostingRegressor</label><div class=\"sk-toggleable__content\"><pre>GradientBoostingRegressor(learning_rate=0.005, max_depth=5, min_samples_split=6,\n",
              "                          n_estimators=500)</pre></div></div></div><div class=\"sk-serial\"><div class=\"sk-item\"><div class=\"sk-estimator sk-toggleable\"><input class=\"sk-toggleable__control sk-hidden--visually\" id=\"sk-estimator-id-12\" type=\"checkbox\" ><label for=\"sk-estimator-id-12\" class=\"sk-toggleable__label sk-toggleable__label-arrow\">GradientBoostingRegressor</label><div class=\"sk-toggleable__content\"><pre>GradientBoostingRegressor(learning_rate=0.005, max_depth=5, min_samples_split=6,\n",
              "                          n_estimators=500)</pre></div></div></div></div></div></div></div></div></div></div>"
            ]
          },
          "metadata": {},
          "execution_count": 276
        }
      ]
    },
    {
      "cell_type": "markdown",
      "source": [
        "##Predictiving to Target Features"
      ],
      "metadata": {
        "id": "X68yMDH90QNR"
      }
    },
    {
      "cell_type": "code",
      "source": [
        "y_pred = mor.predict(X_test)"
      ],
      "metadata": {
        "id": "vDirtH8wPobM"
      },
      "execution_count": 277,
      "outputs": []
    },
    {
      "cell_type": "code",
      "source": [
        "y1_pred, y2_pred,y3_pred = y_pred[:, 0], y_pred[:, 1],y_pred[:,2]"
      ],
      "metadata": {
        "id": "Yi8VPrRTPxU3"
      },
      "execution_count": 278,
      "outputs": []
    },
    {
      "cell_type": "markdown",
      "source": [
        "#Mean Square Error (MSE)"
      ],
      "metadata": {
        "id": "ZTuJbL8qQ_0z"
      }
    },
    {
      "cell_type": "code",
      "source": [
        "from sklearn.metrics import mean_squared_error\n",
        "from sklearn.metrics import r2_score"
      ],
      "metadata": {
        "id": "zTNFtvwCRhqH"
      },
      "execution_count": 279,
      "outputs": []
    },
    {
      "cell_type": "code",
      "source": [
        "mse_y1 = mean_squared_error(y1_test,y1_pred)\n",
        "mse_y2 = mean_squared_error(y2_test, y2_pred)\n",
        "mse_y3 = mean_squared_error(y3_test, y3_pred)\n",
        "\n",
        "print(f\"Y1 için MSE: {mse_y1:.2f}\")\n",
        "print(f\"Y2 için MSE: {mse_y2:.2f}\")\n",
        "print(f\"Y3 için MSE: {mse_y3:.2f}\")"
      ],
      "metadata": {
        "colab": {
          "base_uri": "https://localhost:8080/"
        },
        "id": "JRMEIaEMQ_PT",
        "outputId": "24746a74-2941-47ea-93cd-fe66e51c1836"
      },
      "execution_count": 280,
      "outputs": [
        {
          "output_type": "stream",
          "name": "stdout",
          "text": [
            "Y1 için MSE: 0.00\n",
            "Y2 için MSE: 0.00\n",
            "Y3 için MSE: 4.00\n"
          ]
        }
      ]
    },
    {
      "cell_type": "markdown",
      "source": [
        "## R-Square Error (R²)"
      ],
      "metadata": {
        "id": "0kqG8jr7RYyn"
      }
    },
    {
      "cell_type": "code",
      "source": [
        "r2_y1 = r2_score(y1_test, y1_pred)\n",
        "r2_y2 = r2_score(y2_test, y2_pred)\n",
        "r2_y3 = r2_score(y3_test, y3_pred)\n",
        "print(f\"Y1 için R-kare: {r2_y1:.2f}\")\n",
        "print(f\"Y2 için R-kare: {r2_y2:.2f}\")\n",
        "print(f\"Y3 için R-kare: {r2_y3:.2f}\")"
      ],
      "metadata": {
        "colab": {
          "base_uri": "https://localhost:8080/"
        },
        "id": "Jfrbyb7QRVZ5",
        "outputId": "d7e70098-7954-4107-c966-894cbade0ffc"
      },
      "execution_count": 281,
      "outputs": [
        {
          "output_type": "stream",
          "name": "stdout",
          "text": [
            "Y1 için R-kare: 0.95\n",
            "Y2 için R-kare: 0.62\n",
            "Y3 için R-kare: 0.90\n"
          ]
        }
      ]
    },
    {
      "cell_type": "markdown",
      "source": [
        "#Improvement with Hyperparameter Tuning"
      ],
      "metadata": {
        "id": "WQSY9vjsheqZ"
      }
    },
    {
      "cell_type": "code",
      "source": [
        "from sklearn.ensemble import GradientBoostingRegressor\n",
        "\n",
        "# Gradient Boosting Regressor modeli için ayarlar\n",
        "params = {'n_estimators': 500,\n",
        "          'max_depth': 5,\n",
        "          'min_samples_split': 6,\n",
        "          'learning_rate': 0.009,\n",
        "          'loss': 'squared_error'}\n",
        "\n",
        "# Modeli oluşturma\n",
        "gb_model1 = GradientBoostingRegressor(**params)\n",
        "\n",
        "# Modeli eğitme\n",
        "gb_model1.fit(X_train, y1_train)\n",
        "\n",
        "y1_pred = gb_model1.predict(X_test)\n",
        "\n",
        "# Model performansını değerlendire\n",
        "mse = mean_squared_error(y1_test, y1_pred)\n",
        "r2 = gb_model1.score(X_test, y1_test)\n",
        "\n",
        "print(\"MSE: {:.2f}\".format(mse))\n",
        "print(\"R^2 score: {:.2f}\".format(r2))"
      ],
      "metadata": {
        "colab": {
          "base_uri": "https://localhost:8080/"
        },
        "id": "DAPbWmBwg1Yj",
        "outputId": "cd0fb54b-0657-4072-9c23-bad4fea18ff8"
      },
      "execution_count": 282,
      "outputs": [
        {
          "output_type": "stream",
          "name": "stdout",
          "text": [
            "MSE: 0.00\n",
            "R^2 score: 0.98\n"
          ]
        }
      ]
    },
    {
      "cell_type": "code",
      "source": [
        "from sklearn.ensemble import GradientBoostingRegressor\n",
        "\n",
        "# Gradient Boosting Regressor modeli için ayarlar\n",
        "params = {'n_estimators': 1000,\n",
        "          'max_depth': 5,\n",
        "          'min_samples_split': 7,\n",
        "          'learning_rate': 0.01,\n",
        "          'loss': 'squared_error'}\n",
        "\n",
        "# Modeli oluşturma\n",
        "gb_model2 = GradientBoostingRegressor(**params)\n",
        "\n",
        "# Modeli eğitme\n",
        "gb_model2.fit(X_train, y2_train)\n",
        "\n",
        "y2_pred = gb_model2.predict(X_test)\n",
        "\n",
        "# Model performansını değerlendire\n",
        "mse = mean_squared_error(y2_test, y2_pred)\n",
        "r2 = gb_model2.score(X_test, y2_test)\n",
        "\n",
        "print(\"MSE: {:.2f}\".format(mse))\n",
        "print(\"R^2 score: {:.2f}\".format(r2))\n"
      ],
      "metadata": {
        "colab": {
          "base_uri": "https://localhost:8080/"
        },
        "id": "MQoocrSUErTM",
        "outputId": "ec338023-c6ec-4b3b-d155-dd897da0dc15"
      },
      "execution_count": 283,
      "outputs": [
        {
          "output_type": "stream",
          "name": "stdout",
          "text": [
            "MSE: 0.00\n",
            "R^2 score: 0.85\n"
          ]
        }
      ]
    },
    {
      "cell_type": "code",
      "source": [
        "from sklearn.ensemble import GradientBoostingRegressor\n",
        "\n",
        "# Gradient Boosting Regressor modeli için ayarlar\n",
        "params = {'n_estimators': 1100,\n",
        "          'max_depth': 5,\n",
        "          'min_samples_split': 6,\n",
        "          'learning_rate': 0.011,\n",
        "          'loss': 'squared_error'}\n",
        "\n",
        "# Modeli oluşturma\n",
        "gb_model3 = GradientBoostingRegressor(**params)\n",
        "\n",
        "# Modeli eğitme\n",
        "gb_model3.fit(X_train, y3_train)\n",
        "\n",
        "y1_pred = gb_model3.predict(X_test)\n",
        "\n",
        "# Model performansını değerlendire\n",
        "mse = mean_squared_error(y3_test, y3_pred)\n",
        "r2 = gb_model3.score(X_test, y3_test)\n",
        "\n",
        "print(\"MSE: {:.2f}\".format(mse))\n",
        "print(\"R^2 score: {:.2f}\".format(r2))"
      ],
      "metadata": {
        "colab": {
          "base_uri": "https://localhost:8080/"
        },
        "id": "So_qG0ndcraB",
        "outputId": "f8119857-f0c0-47cd-ccb3-424a5ee82375"
      },
      "execution_count": 284,
      "outputs": [
        {
          "output_type": "stream",
          "name": "stdout",
          "text": [
            "MSE: 4.00\n",
            "R^2 score: 0.97\n"
          ]
        }
      ]
    },
    {
      "cell_type": "markdown",
      "source": [
        "#An Example of Using the Model"
      ],
      "metadata": {
        "id": "m1CsL-JU9HjH"
      }
    },
    {
      "cell_type": "code",
      "source": [
        "selected_row = dt.loc[250,:]\n",
        "print(selected_row)"
      ],
      "metadata": {
        "colab": {
          "base_uri": "https://localhost:8080/"
        },
        "id": "go6EbAGBYWAC",
        "outputId": "5214bb85-d4f5-4955-f1d3-fef9b629ae7c"
      },
      "execution_count": 292,
      "outputs": [
        {
          "output_type": "stream",
          "name": "stdout",
          "text": [
            "     Su (kg/m3)  Cimento (kg/m3)  Ucucu kul (kg/m3)  Mikrosilika (kg/m3)  \\\n",
            "250       363.3             67.8               72.7               1143.0   \n",
            "250       363.3             67.8               72.7               1143.0   \n",
            "250       363.3             67.8               72.7               1143.0   \n",
            "\n",
            "     Kalin agrega (kg/m3)  Ince agrega (kg/m3)  Su azaltici (kg/m3)  \\\n",
            "250                 659.0                  155                 7.56   \n",
            "250                 659.0                  155                 7.56   \n",
            "250                 659.0                  155                 7.56   \n",
            "\n",
            "     Fiber capi (mm)  Fiber uzunlugu (mm)  Fiber orani (%)  \\\n",
            "250            0.015                   12              0.2   \n",
            "250            0.015                   12              0.2   \n",
            "250            0.015                   12              0.2   \n",
            "\n",
            "     Cekme dayanimi (MPa)  \n",
            "250                   3.4  \n",
            "250                   3.4  \n",
            "250                   3.4  \n"
          ]
        }
      ]
    },
    {
      "cell_type": "code",
      "source": [
        "cap=gb_model1.predict(np.array([[363.3,67.8,72.7,1143,659,155,7.56,3.4]]))"
      ],
      "metadata": {
        "id": "k896m3XB88nG"
      },
      "execution_count": 286,
      "outputs": []
    },
    {
      "cell_type": "code",
      "source": [
        "oran=gb_model2.predict(np.array([[363.3,67.8,72.7,1143,659,155,7.56,3.4]]))"
      ],
      "metadata": {
        "id": "5D5pgldi880C"
      },
      "execution_count": 287,
      "outputs": []
    },
    {
      "cell_type": "code",
      "source": [
        "uzunluk=gb_model3.predict(np.array([[363.3,67.8,72.7,1143,659,155,7.56,3.4]]))"
      ],
      "metadata": {
        "id": "_1iTXrXY9XaD"
      },
      "execution_count": 288,
      "outputs": []
    },
    {
      "cell_type": "code",
      "source": [
        "print(f\"Tahmin edilen değerler=\\nFiber capi (mm)={cap}\\nFiber uzunlugu (mm)={uzunluk}\\nFiber orani (%)={oran} \\n\\nGerçek değerler=\\n{dt.iloc[250,7:10]}\")"
      ],
      "metadata": {
        "colab": {
          "base_uri": "https://localhost:8080/"
        },
        "id": "81n31LgW9jgy",
        "outputId": "235a8db2-537f-4b55-9a85-5ffff92da004"
      },
      "execution_count": 291,
      "outputs": [
        {
          "output_type": "stream",
          "name": "stdout",
          "text": [
            "Tahmin edilen değerler=\n",
            "Fiber capi (mm)=[0.01487553]\n",
            "Fiber uzunlugu (mm)=[15.80168139]\n",
            "Fiber orani (%)=[0.17830828] \n",
            "\n",
            "Gerçek değerler=\n",
            "Fiber capi (mm)         0.015\n",
            "Fiber uzunlugu (mm)    12.000\n",
            "Fiber orani (%)         0.200\n",
            "Name: 250, dtype: float64\n"
          ]
        }
      ]
    }
  ]
}